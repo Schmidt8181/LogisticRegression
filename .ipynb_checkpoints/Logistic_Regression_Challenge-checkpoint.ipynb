{
 "cells": [
  {
   "cell_type": "code",
   "execution_count": 52,
   "metadata": {
    "collapsed": true
   },
   "outputs": [],
   "source": [
    "%matplotlib inline\n",
    "import numpy as np\n",
    "import pandas as pd\n",
    "import scipy\n",
    "import sklearn\n",
    "from sklearn import linear_model\n",
    "from sklearn.model_selection import train_test_split\n",
    "from sklearn import preprocessing\n",
    "import matplotlib.pyplot as plt\n",
    "import seaborn as sns"
   ]
  },
  {
   "cell_type": "code",
   "execution_count": 36,
   "metadata": {},
   "outputs": [
    {
     "data": {
      "text/html": [
       "<div>\n",
       "<style>\n",
       "    .dataframe thead tr:only-child th {\n",
       "        text-align: right;\n",
       "    }\n",
       "\n",
       "    .dataframe thead th {\n",
       "        text-align: left;\n",
       "    }\n",
       "\n",
       "    .dataframe tbody tr th {\n",
       "        vertical-align: top;\n",
       "    }\n",
       "</style>\n",
       "<table border=\"1\" class=\"dataframe\">\n",
       "  <thead>\n",
       "    <tr style=\"text-align: right;\">\n",
       "      <th></th>\n",
       "      <th>City</th>\n",
       "      <th>Population</th>\n",
       "      <th>Violent\n",
       "crime</th>\n",
       "      <th>Murder and\n",
       "nonnegligent\n",
       "manslaughter</th>\n",
       "      <th>Rape\n",
       "(revised\n",
       "definition)1</th>\n",
       "      <th>Rape\n",
       "(legacy\n",
       "definition)2</th>\n",
       "      <th>Robbery</th>\n",
       "      <th>Aggravated\n",
       "assault</th>\n",
       "      <th>Property\n",
       "crime</th>\n",
       "      <th>Burglary</th>\n",
       "      <th>Larceny-\n",
       "theft</th>\n",
       "      <th>Motor\n",
       "vehicle\n",
       "theft</th>\n",
       "      <th>Arson3</th>\n",
       "    </tr>\n",
       "  </thead>\n",
       "  <tbody>\n",
       "    <tr>\n",
       "      <th>0</th>\n",
       "      <td>Albany</td>\n",
       "      <td>97,956</td>\n",
       "      <td>791</td>\n",
       "      <td>8.0</td>\n",
       "      <td>NaN</td>\n",
       "      <td>30</td>\n",
       "      <td>227</td>\n",
       "      <td>526</td>\n",
       "      <td>4,090</td>\n",
       "      <td>705</td>\n",
       "      <td>3,243</td>\n",
       "      <td>142</td>\n",
       "      <td>NaN</td>\n",
       "    </tr>\n",
       "    <tr>\n",
       "      <th>1</th>\n",
       "      <td>Greece Town</td>\n",
       "      <td>96,667</td>\n",
       "      <td>151</td>\n",
       "      <td>0.0</td>\n",
       "      <td>NaN</td>\n",
       "      <td>9</td>\n",
       "      <td>60</td>\n",
       "      <td>82</td>\n",
       "      <td>2,303</td>\n",
       "      <td>332</td>\n",
       "      <td>1,925</td>\n",
       "      <td>46</td>\n",
       "      <td>NaN</td>\n",
       "    </tr>\n",
       "    <tr>\n",
       "      <th>2</th>\n",
       "      <td>Sleepy Hollow Village</td>\n",
       "      <td>9,996</td>\n",
       "      <td>8</td>\n",
       "      <td>1.0</td>\n",
       "      <td>NaN</td>\n",
       "      <td>0</td>\n",
       "      <td>1</td>\n",
       "      <td>6</td>\n",
       "      <td>58</td>\n",
       "      <td>9</td>\n",
       "      <td>47</td>\n",
       "      <td>2</td>\n",
       "      <td>0.0</td>\n",
       "    </tr>\n",
       "    <tr>\n",
       "      <th>3</th>\n",
       "      <td>Potsdam Village</td>\n",
       "      <td>9,613</td>\n",
       "      <td>8</td>\n",
       "      <td>0.0</td>\n",
       "      <td>NaN</td>\n",
       "      <td>1</td>\n",
       "      <td>0</td>\n",
       "      <td>7</td>\n",
       "      <td>190</td>\n",
       "      <td>17</td>\n",
       "      <td>168</td>\n",
       "      <td>5</td>\n",
       "      <td>NaN</td>\n",
       "    </tr>\n",
       "    <tr>\n",
       "      <th>4</th>\n",
       "      <td>Cornwall Town</td>\n",
       "      <td>9,543</td>\n",
       "      <td>1</td>\n",
       "      <td>0.0</td>\n",
       "      <td>NaN</td>\n",
       "      <td>0</td>\n",
       "      <td>0</td>\n",
       "      <td>1</td>\n",
       "      <td>42</td>\n",
       "      <td>10</td>\n",
       "      <td>32</td>\n",
       "      <td>0</td>\n",
       "      <td>NaN</td>\n",
       "    </tr>\n",
       "  </tbody>\n",
       "</table>\n",
       "</div>"
      ],
      "text/plain": [
       "                    City Population Violent\\ncrime  \\\n",
       "0                 Albany     97,956            791   \n",
       "1            Greece Town     96,667            151   \n",
       "2  Sleepy Hollow Village      9,996              8   \n",
       "3        Potsdam Village      9,613              8   \n",
       "4          Cornwall Town      9,543              1   \n",
       "\n",
       "   Murder and\\nnonnegligent\\nmanslaughter  Rape\\n(revised\\ndefinition)1  \\\n",
       "0                                     8.0                           NaN   \n",
       "1                                     0.0                           NaN   \n",
       "2                                     1.0                           NaN   \n",
       "3                                     0.0                           NaN   \n",
       "4                                     0.0                           NaN   \n",
       "\n",
       "  Rape\\n(legacy\\ndefinition)2 Robbery Aggravated\\nassault Property\\ncrime  \\\n",
       "0                          30     227                 526           4,090   \n",
       "1                           9      60                  82           2,303   \n",
       "2                           0       1                   6              58   \n",
       "3                           1       0                   7             190   \n",
       "4                           0       0                   1              42   \n",
       "\n",
       "  Burglary Larceny-\\ntheft Motor\\nvehicle\\ntheft  Arson3  \n",
       "0      705           3,243                   142     NaN  \n",
       "1      332           1,925                    46     NaN  \n",
       "2        9              47                     2     0.0  \n",
       "3       17             168                     5     NaN  \n",
       "4       10              32                     0     NaN  "
      ]
     },
     "execution_count": 36,
     "metadata": {},
     "output_type": "execute_result"
    }
   ],
   "source": [
    "data = ('/Users/Beba/Documents/JupyterNotebooks/NY2013Crimes.csv')\n",
    "raw_crimes = pd.read_csv(data)\n",
    "raw_crimes.head()"
   ]
  },
  {
   "cell_type": "code",
   "execution_count": 39,
   "metadata": {
    "collapsed": true
   },
   "outputs": [],
   "source": [
    "raw_crimes.drop('Arson3', axis=1, inplace=True)"
   ]
  },
  {
   "cell_type": "code",
   "execution_count": 42,
   "metadata": {},
   "outputs": [
    {
     "data": {
      "text/plain": [
       "City                                      0\n",
       "Population                                0\n",
       "Violent\\ncrime                            0\n",
       "Murder and\\nnonnegligent\\nmanslaughter    0\n",
       "Rape\\n(legacy\\ndefinition)2               0\n",
       "Robbery                                   0\n",
       "Aggravated\\nassault                       0\n",
       "Property\\ncrime                           0\n",
       "Burglary                                  0\n",
       "Larceny-\\ntheft                           0\n",
       "Motor\\nvehicle\\ntheft                     0\n",
       "dtype: int64"
      ]
     },
     "execution_count": 42,
     "metadata": {},
     "output_type": "execute_result"
    }
   ],
   "source": [
    "raw_crimes.isnull().sum()"
   ]
  },
  {
   "cell_type": "code",
   "execution_count": 40,
   "metadata": {
    "collapsed": true
   },
   "outputs": [],
   "source": [
    "raw_crimes.dropna(axis=0, inplace=True)"
   ]
  },
  {
   "cell_type": "code",
   "execution_count": 41,
   "metadata": {},
   "outputs": [
    {
     "data": {
      "text/html": [
       "<div>\n",
       "<style>\n",
       "    .dataframe thead tr:only-child th {\n",
       "        text-align: right;\n",
       "    }\n",
       "\n",
       "    .dataframe thead th {\n",
       "        text-align: left;\n",
       "    }\n",
       "\n",
       "    .dataframe tbody tr th {\n",
       "        vertical-align: top;\n",
       "    }\n",
       "</style>\n",
       "<table border=\"1\" class=\"dataframe\">\n",
       "  <thead>\n",
       "    <tr style=\"text-align: right;\">\n",
       "      <th></th>\n",
       "      <th>City</th>\n",
       "      <th>Population</th>\n",
       "      <th>Violent\n",
       "crime</th>\n",
       "      <th>Murder and\n",
       "nonnegligent\n",
       "manslaughter</th>\n",
       "      <th>Rape\n",
       "(legacy\n",
       "definition)2</th>\n",
       "      <th>Robbery</th>\n",
       "      <th>Aggravated\n",
       "assault</th>\n",
       "      <th>Property\n",
       "crime</th>\n",
       "      <th>Burglary</th>\n",
       "      <th>Larceny-\n",
       "theft</th>\n",
       "      <th>Motor\n",
       "vehicle\n",
       "theft</th>\n",
       "    </tr>\n",
       "  </thead>\n",
       "  <tbody>\n",
       "    <tr>\n",
       "      <th>0</th>\n",
       "      <td>Albany</td>\n",
       "      <td>97,956</td>\n",
       "      <td>791</td>\n",
       "      <td>8.0</td>\n",
       "      <td>30</td>\n",
       "      <td>227</td>\n",
       "      <td>526</td>\n",
       "      <td>4,090</td>\n",
       "      <td>705</td>\n",
       "      <td>3,243</td>\n",
       "      <td>142</td>\n",
       "    </tr>\n",
       "    <tr>\n",
       "      <th>1</th>\n",
       "      <td>Greece Town</td>\n",
       "      <td>96,667</td>\n",
       "      <td>151</td>\n",
       "      <td>0.0</td>\n",
       "      <td>9</td>\n",
       "      <td>60</td>\n",
       "      <td>82</td>\n",
       "      <td>2,303</td>\n",
       "      <td>332</td>\n",
       "      <td>1,925</td>\n",
       "      <td>46</td>\n",
       "    </tr>\n",
       "    <tr>\n",
       "      <th>2</th>\n",
       "      <td>Sleepy Hollow Village</td>\n",
       "      <td>9,996</td>\n",
       "      <td>8</td>\n",
       "      <td>1.0</td>\n",
       "      <td>0</td>\n",
       "      <td>1</td>\n",
       "      <td>6</td>\n",
       "      <td>58</td>\n",
       "      <td>9</td>\n",
       "      <td>47</td>\n",
       "      <td>2</td>\n",
       "    </tr>\n",
       "    <tr>\n",
       "      <th>3</th>\n",
       "      <td>Potsdam Village</td>\n",
       "      <td>9,613</td>\n",
       "      <td>8</td>\n",
       "      <td>0.0</td>\n",
       "      <td>1</td>\n",
       "      <td>0</td>\n",
       "      <td>7</td>\n",
       "      <td>190</td>\n",
       "      <td>17</td>\n",
       "      <td>168</td>\n",
       "      <td>5</td>\n",
       "    </tr>\n",
       "    <tr>\n",
       "      <th>4</th>\n",
       "      <td>Cornwall Town</td>\n",
       "      <td>9,543</td>\n",
       "      <td>1</td>\n",
       "      <td>0.0</td>\n",
       "      <td>0</td>\n",
       "      <td>0</td>\n",
       "      <td>1</td>\n",
       "      <td>42</td>\n",
       "      <td>10</td>\n",
       "      <td>32</td>\n",
       "      <td>0</td>\n",
       "    </tr>\n",
       "  </tbody>\n",
       "</table>\n",
       "</div>"
      ],
      "text/plain": [
       "                    City Population Violent\\ncrime  \\\n",
       "0                 Albany     97,956            791   \n",
       "1            Greece Town     96,667            151   \n",
       "2  Sleepy Hollow Village      9,996              8   \n",
       "3        Potsdam Village      9,613              8   \n",
       "4          Cornwall Town      9,543              1   \n",
       "\n",
       "   Murder and\\nnonnegligent\\nmanslaughter Rape\\n(legacy\\ndefinition)2 Robbery  \\\n",
       "0                                     8.0                          30     227   \n",
       "1                                     0.0                           9      60   \n",
       "2                                     1.0                           0       1   \n",
       "3                                     0.0                           1       0   \n",
       "4                                     0.0                           0       0   \n",
       "\n",
       "  Aggravated\\nassault Property\\ncrime Burglary Larceny-\\ntheft  \\\n",
       "0                 526           4,090      705           3,243   \n",
       "1                  82           2,303      332           1,925   \n",
       "2                   6              58        9              47   \n",
       "3                   7             190       17             168   \n",
       "4                   1              42       10              32   \n",
       "\n",
       "  Motor\\nvehicle\\ntheft  \n",
       "0                   142  \n",
       "1                    46  \n",
       "2                     2  \n",
       "3                     5  \n",
       "4                     0  "
      ]
     },
     "execution_count": 41,
     "metadata": {},
     "output_type": "execute_result"
    }
   ],
   "source": [
    "raw_crimes.head()"
   ]
  },
  {
   "cell_type": "code",
   "execution_count": 54,
   "metadata": {},
   "outputs": [
    {
     "data": {
      "text/plain": [
       "City                                       object\n",
       "Population                                float64\n",
       "Violent\\ncrime                            float64\n",
       "Murder and\\nnonnegligent\\nmanslaughter    float64\n",
       "Rape\\n(legacy\\ndefinition)2                object\n",
       "Robbery                                   float64\n",
       "Aggravated\\nassault                        object\n",
       "Property\\ncrime                           float64\n",
       "Burglary                                  float64\n",
       "Larceny-\\ntheft                           float64\n",
       "Motor\\nvehicle\\ntheft                     float64\n",
       "Rape                                      float64\n",
       "Assault                                   float64\n",
       "dtype: object"
      ]
     },
     "execution_count": 54,
     "metadata": {},
     "output_type": "execute_result"
    }
   ],
   "source": [
    "raw_crimes.dtypes"
   ]
  },
  {
   "cell_type": "code",
   "execution_count": 48,
   "metadata": {},
   "outputs": [],
   "source": [
    "raw_crimes['Rape'] = raw_crimes['Rape\\n(legacy\\ndefinition)2'].str.replace(',','').astype(float)\n",
    "raw_crimes['Robbery'] = raw_crimes['Robbery'].str.replace(',','').astype(float)\n",
    "raw_crimes['Assault'] = raw_crimes['Aggravated\\nassault'].str.replace(',','').astype(float)\n",
    "raw_crimes['Property\\ncrime'] = raw_crimes['Property\\ncrime'].str.replace(',','').astype(float)\n",
    "raw_crimes['Burglary'] = raw_crimes['Burglary'].str.replace(',','').astype(float)\n",
    "raw_crimes['Larceny-\\ntheft'] = raw_crimes['Larceny-\\ntheft'].str.replace(',','').astype(float)\n",
    "raw_crimes['Motor\\nvehicle\\ntheft'] = raw_crimes['Motor\\nvehicle\\ntheft'].str.replace(',','').astype(float)\n"
   ]
  },
  {
   "cell_type": "code",
   "execution_count": 63,
   "metadata": {},
   "outputs": [
    {
     "data": {
      "text/plain": [
       "City                                       object\n",
       "Population                                float64\n",
       "Violent\\ncrime                            float64\n",
       "Murder and\\nnonnegligent\\nmanslaughter    float64\n",
       "Robbery                                   float64\n",
       "Property\\ncrime                           float64\n",
       "Burglary                                  float64\n",
       "Larceny-\\ntheft                           float64\n",
       "Motor\\nvehicle\\ntheft                     float64\n",
       "Rape                                      float64\n",
       "Assault                                   float64\n",
       "dtype: object"
      ]
     },
     "execution_count": 63,
     "metadata": {},
     "output_type": "execute_result"
    }
   ],
   "source": [
    "raw_crimes.dtypes"
   ]
  },
  {
   "cell_type": "code",
   "execution_count": 50,
   "metadata": {},
   "outputs": [
    {
     "data": {
      "text/html": [
       "<div>\n",
       "<style>\n",
       "    .dataframe thead tr:only-child th {\n",
       "        text-align: right;\n",
       "    }\n",
       "\n",
       "    .dataframe thead th {\n",
       "        text-align: left;\n",
       "    }\n",
       "\n",
       "    .dataframe tbody tr th {\n",
       "        vertical-align: top;\n",
       "    }\n",
       "</style>\n",
       "<table border=\"1\" class=\"dataframe\">\n",
       "  <thead>\n",
       "    <tr style=\"text-align: right;\">\n",
       "      <th></th>\n",
       "      <th>City</th>\n",
       "      <th>Population</th>\n",
       "      <th>Violent\n",
       "crime</th>\n",
       "      <th>Murder and\n",
       "nonnegligent\n",
       "manslaughter</th>\n",
       "      <th>Rape\n",
       "(legacy\n",
       "definition)2</th>\n",
       "      <th>Robbery</th>\n",
       "      <th>Aggravated\n",
       "assault</th>\n",
       "      <th>Property\n",
       "crime</th>\n",
       "      <th>Burglary</th>\n",
       "      <th>Larceny-\n",
       "theft</th>\n",
       "      <th>Motor\n",
       "vehicle\n",
       "theft</th>\n",
       "      <th>Rape</th>\n",
       "      <th>Assault</th>\n",
       "    </tr>\n",
       "  </thead>\n",
       "  <tbody>\n",
       "    <tr>\n",
       "      <th>0</th>\n",
       "      <td>Albany</td>\n",
       "      <td>97956.0</td>\n",
       "      <td>791.0</td>\n",
       "      <td>8.0</td>\n",
       "      <td>30</td>\n",
       "      <td>227.0</td>\n",
       "      <td>526</td>\n",
       "      <td>4090.0</td>\n",
       "      <td>705.0</td>\n",
       "      <td>3243.0</td>\n",
       "      <td>142.0</td>\n",
       "      <td>30.0</td>\n",
       "      <td>526.0</td>\n",
       "    </tr>\n",
       "    <tr>\n",
       "      <th>1</th>\n",
       "      <td>Greece Town</td>\n",
       "      <td>96667.0</td>\n",
       "      <td>151.0</td>\n",
       "      <td>0.0</td>\n",
       "      <td>9</td>\n",
       "      <td>60.0</td>\n",
       "      <td>82</td>\n",
       "      <td>2303.0</td>\n",
       "      <td>332.0</td>\n",
       "      <td>1925.0</td>\n",
       "      <td>46.0</td>\n",
       "      <td>9.0</td>\n",
       "      <td>82.0</td>\n",
       "    </tr>\n",
       "    <tr>\n",
       "      <th>2</th>\n",
       "      <td>Sleepy Hollow Village</td>\n",
       "      <td>9996.0</td>\n",
       "      <td>8.0</td>\n",
       "      <td>1.0</td>\n",
       "      <td>0</td>\n",
       "      <td>1.0</td>\n",
       "      <td>6</td>\n",
       "      <td>58.0</td>\n",
       "      <td>9.0</td>\n",
       "      <td>47.0</td>\n",
       "      <td>2.0</td>\n",
       "      <td>0.0</td>\n",
       "      <td>6.0</td>\n",
       "    </tr>\n",
       "    <tr>\n",
       "      <th>3</th>\n",
       "      <td>Potsdam Village</td>\n",
       "      <td>9613.0</td>\n",
       "      <td>8.0</td>\n",
       "      <td>0.0</td>\n",
       "      <td>1</td>\n",
       "      <td>0.0</td>\n",
       "      <td>7</td>\n",
       "      <td>190.0</td>\n",
       "      <td>17.0</td>\n",
       "      <td>168.0</td>\n",
       "      <td>5.0</td>\n",
       "      <td>1.0</td>\n",
       "      <td>7.0</td>\n",
       "    </tr>\n",
       "    <tr>\n",
       "      <th>4</th>\n",
       "      <td>Cornwall Town</td>\n",
       "      <td>9543.0</td>\n",
       "      <td>1.0</td>\n",
       "      <td>0.0</td>\n",
       "      <td>0</td>\n",
       "      <td>0.0</td>\n",
       "      <td>1</td>\n",
       "      <td>42.0</td>\n",
       "      <td>10.0</td>\n",
       "      <td>32.0</td>\n",
       "      <td>0.0</td>\n",
       "      <td>0.0</td>\n",
       "      <td>1.0</td>\n",
       "    </tr>\n",
       "  </tbody>\n",
       "</table>\n",
       "</div>"
      ],
      "text/plain": [
       "                    City  Population  Violent\\ncrime  \\\n",
       "0                 Albany     97956.0           791.0   \n",
       "1            Greece Town     96667.0           151.0   \n",
       "2  Sleepy Hollow Village      9996.0             8.0   \n",
       "3        Potsdam Village      9613.0             8.0   \n",
       "4          Cornwall Town      9543.0             1.0   \n",
       "\n",
       "   Murder and\\nnonnegligent\\nmanslaughter Rape\\n(legacy\\ndefinition)2  \\\n",
       "0                                     8.0                          30   \n",
       "1                                     0.0                           9   \n",
       "2                                     1.0                           0   \n",
       "3                                     0.0                           1   \n",
       "4                                     0.0                           0   \n",
       "\n",
       "   Robbery Aggravated\\nassault  Property\\ncrime  Burglary  Larceny-\\ntheft  \\\n",
       "0    227.0                 526           4090.0     705.0           3243.0   \n",
       "1     60.0                  82           2303.0     332.0           1925.0   \n",
       "2      1.0                   6             58.0       9.0             47.0   \n",
       "3      0.0                   7            190.0      17.0            168.0   \n",
       "4      0.0                   1             42.0      10.0             32.0   \n",
       "\n",
       "   Motor\\nvehicle\\ntheft  Rape  Assault  \n",
       "0                  142.0  30.0    526.0  \n",
       "1                   46.0   9.0     82.0  \n",
       "2                    2.0   0.0      6.0  \n",
       "3                    5.0   1.0      7.0  \n",
       "4                    0.0   0.0      1.0  "
      ]
     },
     "execution_count": 50,
     "metadata": {},
     "output_type": "execute_result"
    }
   ],
   "source": [
    "raw_crimes.head()"
   ]
  },
  {
   "cell_type": "code",
   "execution_count": 55,
   "metadata": {
    "collapsed": true
   },
   "outputs": [],
   "source": [
    "raw_crimes.drop(['Rape\\n(legacy\\ndefinition)2'], axis=1, inplace=True)\n",
    "raw_crimes.drop(['Aggravated\\nassault'], axis=1, inplace=True)"
   ]
  },
  {
   "cell_type": "code",
   "execution_count": 61,
   "metadata": {},
   "outputs": [],
   "source": [
    "scaled_crimes = pd.DataFrame()\n",
    "\n",
    "scaled_crimes['Population'] = preprocessing.scale(raw_crimes['Population'])\n",
    "scaled_crimes['Murder and\\nnonnegligent\\nmanslaughter'] = preprocessing.scale(raw_crimes['Murder and\\nnonnegligent\\nmanslaughter'])\n",
    "scaled_crimes['Robbery'] = preprocessing.scale(raw_crimes['Robbery'])\n",
    "scaled_crimes['Burglary'] = preprocessing.scale(raw_crimes['Burglary'])\n",
    "scaled_crimes['Larceny-\\ntheft'] = preprocessing.scale(raw_crimes['Larceny-\\ntheft'])\n",
    "scaled_crimes['Motor\\nvehicle\\ntheft'] = preprocessing.scale(raw_crimes['Motor\\nvehicle\\ntheft'])\n",
    "scaled_crimes['Rape'] = preprocessing.scale(raw_crimes['Rape'])\n",
    "scaled_crimes['Assault'] = preprocessing.scale(raw_crimes['Assault'])\n"
   ]
  },
  {
   "cell_type": "code",
   "execution_count": 130,
   "metadata": {},
   "outputs": [],
   "source": [
    "from scipy.stats import mstats\n",
    "winsorized_Assault = mstats.winsorize(raw_crimes['Assault'], limits=[0.05, 0.05])\n",
    "\n",
    "scaled_crimes['Assault_Category'] = np.where((raw_crimes['Assault'] > (winsorized_Assault.mean())), 1, 0)"
   ]
  },
  {
   "cell_type": "code",
   "execution_count": 125,
   "metadata": {},
   "outputs": [
    {
     "data": {
      "text/plain": [
       "13.761494252873563"
      ]
     },
     "execution_count": 125,
     "metadata": {},
     "output_type": "execute_result"
    }
   ],
   "source": [
    "winsorized_Assault.mean()"
   ]
  },
  {
   "cell_type": "code",
   "execution_count": 126,
   "metadata": {},
   "outputs": [
    {
     "data": {
      "text/plain": [
       "121.26149425287356"
      ]
     },
     "execution_count": 126,
     "metadata": {},
     "output_type": "execute_result"
    }
   ],
   "source": [
    "raw_crimes['Assault'].mean()"
   ]
  },
  {
   "cell_type": "code",
   "execution_count": 140,
   "metadata": {},
   "outputs": [],
   "source": [
    "scaled_crimes.drop(['Violent\\ncrime'], inplace=True, axis=1)\n",
    "scaled_crimes.drop(['Property\\ncrime'], inplace=True, axis=1)"
   ]
  },
  {
   "cell_type": "code",
   "execution_count": 141,
   "metadata": {},
   "outputs": [
    {
     "data": {
      "text/html": [
       "<div>\n",
       "<style>\n",
       "    .dataframe thead tr:only-child th {\n",
       "        text-align: right;\n",
       "    }\n",
       "\n",
       "    .dataframe thead th {\n",
       "        text-align: left;\n",
       "    }\n",
       "\n",
       "    .dataframe tbody tr th {\n",
       "        vertical-align: top;\n",
       "    }\n",
       "</style>\n",
       "<table border=\"1\" class=\"dataframe\">\n",
       "  <thead>\n",
       "    <tr style=\"text-align: right;\">\n",
       "      <th></th>\n",
       "      <th>Population</th>\n",
       "      <th>Murder and\n",
       "nonnegligent\n",
       "manslaughter</th>\n",
       "      <th>Robbery</th>\n",
       "      <th>Burglary</th>\n",
       "      <th>Larceny-\n",
       "theft</th>\n",
       "      <th>Motor\n",
       "vehicle\n",
       "theft</th>\n",
       "      <th>Rape</th>\n",
       "      <th>PopulationSq</th>\n",
       "      <th>PopulationCube</th>\n",
       "      <th>PopXMurder</th>\n",
       "      <th>PopXRobbery</th>\n",
       "      <th>PopXBurglary</th>\n",
       "      <th>PopXLarceny</th>\n",
       "      <th>PopXMotorTheft</th>\n",
       "      <th>PopXRape</th>\n",
       "      <th>Assault_Category</th>\n",
       "    </tr>\n",
       "  </thead>\n",
       "  <tbody>\n",
       "    <tr>\n",
       "      <th>0</th>\n",
       "      <td>0.128882</td>\n",
       "      <td>0.352015</td>\n",
       "      <td>0.149675</td>\n",
       "      <td>0.633720</td>\n",
       "      <td>0.411237</td>\n",
       "      <td>0.263365</td>\n",
       "      <td>0.399994</td>\n",
       "      <td>0.016611</td>\n",
       "      <td>0.002141</td>\n",
       "      <td>0.045368</td>\n",
       "      <td>0.019290</td>\n",
       "      <td>0.081675</td>\n",
       "      <td>0.053001</td>\n",
       "      <td>0.033943</td>\n",
       "      <td>0.051552</td>\n",
       "      <td>1</td>\n",
       "    </tr>\n",
       "    <tr>\n",
       "      <th>1</th>\n",
       "      <td>0.126014</td>\n",
       "      <td>-0.085685</td>\n",
       "      <td>-0.012532</td>\n",
       "      <td>0.229874</td>\n",
       "      <td>0.203250</td>\n",
       "      <td>0.025059</td>\n",
       "      <td>0.051958</td>\n",
       "      <td>0.015879</td>\n",
       "      <td>0.002001</td>\n",
       "      <td>-0.010797</td>\n",
       "      <td>-0.001579</td>\n",
       "      <td>0.028967</td>\n",
       "      <td>0.025612</td>\n",
       "      <td>0.003158</td>\n",
       "      <td>0.006547</td>\n",
       "      <td>1</td>\n",
       "    </tr>\n",
       "    <tr>\n",
       "      <th>2</th>\n",
       "      <td>-0.066850</td>\n",
       "      <td>-0.030972</td>\n",
       "      <td>-0.069839</td>\n",
       "      <td>-0.119837</td>\n",
       "      <td>-0.093108</td>\n",
       "      <td>-0.084165</td>\n",
       "      <td>-0.097201</td>\n",
       "      <td>0.004469</td>\n",
       "      <td>-0.000299</td>\n",
       "      <td>0.002070</td>\n",
       "      <td>0.004669</td>\n",
       "      <td>0.008011</td>\n",
       "      <td>0.006224</td>\n",
       "      <td>0.005626</td>\n",
       "      <td>0.006498</td>\n",
       "      <td>0</td>\n",
       "    </tr>\n",
       "    <tr>\n",
       "      <th>3</th>\n",
       "      <td>-0.067702</td>\n",
       "      <td>-0.085685</td>\n",
       "      <td>-0.070810</td>\n",
       "      <td>-0.111176</td>\n",
       "      <td>-0.074013</td>\n",
       "      <td>-0.076718</td>\n",
       "      <td>-0.080627</td>\n",
       "      <td>0.004584</td>\n",
       "      <td>-0.000310</td>\n",
       "      <td>0.005801</td>\n",
       "      <td>0.004794</td>\n",
       "      <td>0.007527</td>\n",
       "      <td>0.005011</td>\n",
       "      <td>0.005194</td>\n",
       "      <td>0.005459</td>\n",
       "      <td>0</td>\n",
       "    </tr>\n",
       "    <tr>\n",
       "      <th>4</th>\n",
       "      <td>-0.067858</td>\n",
       "      <td>-0.085685</td>\n",
       "      <td>-0.070810</td>\n",
       "      <td>-0.118755</td>\n",
       "      <td>-0.095475</td>\n",
       "      <td>-0.089129</td>\n",
       "      <td>-0.097201</td>\n",
       "      <td>0.004605</td>\n",
       "      <td>-0.000312</td>\n",
       "      <td>0.005814</td>\n",
       "      <td>0.004805</td>\n",
       "      <td>0.008058</td>\n",
       "      <td>0.006479</td>\n",
       "      <td>0.006048</td>\n",
       "      <td>0.006596</td>\n",
       "      <td>0</td>\n",
       "    </tr>\n",
       "  </tbody>\n",
       "</table>\n",
       "</div>"
      ],
      "text/plain": [
       "   Population  Murder and\\nnonnegligent\\nmanslaughter   Robbery  Burglary  \\\n",
       "0    0.128882                                0.352015  0.149675  0.633720   \n",
       "1    0.126014                               -0.085685 -0.012532  0.229874   \n",
       "2   -0.066850                               -0.030972 -0.069839 -0.119837   \n",
       "3   -0.067702                               -0.085685 -0.070810 -0.111176   \n",
       "4   -0.067858                               -0.085685 -0.070810 -0.118755   \n",
       "\n",
       "   Larceny-\\ntheft  Motor\\nvehicle\\ntheft      Rape  PopulationSq  \\\n",
       "0         0.411237               0.263365  0.399994      0.016611   \n",
       "1         0.203250               0.025059  0.051958      0.015879   \n",
       "2        -0.093108              -0.084165 -0.097201      0.004469   \n",
       "3        -0.074013              -0.076718 -0.080627      0.004584   \n",
       "4        -0.095475              -0.089129 -0.097201      0.004605   \n",
       "\n",
       "   PopulationCube  PopXMurder  PopXRobbery  PopXBurglary  PopXLarceny  \\\n",
       "0        0.002141    0.045368     0.019290      0.081675     0.053001   \n",
       "1        0.002001   -0.010797    -0.001579      0.028967     0.025612   \n",
       "2       -0.000299    0.002070     0.004669      0.008011     0.006224   \n",
       "3       -0.000310    0.005801     0.004794      0.007527     0.005011   \n",
       "4       -0.000312    0.005814     0.004805      0.008058     0.006479   \n",
       "\n",
       "   PopXMotorTheft  PopXRape  Assault_Category  \n",
       "0        0.033943  0.051552                 1  \n",
       "1        0.003158  0.006547                 1  \n",
       "2        0.005626  0.006498                 0  \n",
       "3        0.005194  0.005459                 0  \n",
       "4        0.006048  0.006596                 0  "
      ]
     },
     "execution_count": 141,
     "metadata": {},
     "output_type": "execute_result"
    }
   ],
   "source": [
    "scaled_crimes.head()"
   ]
  },
  {
   "cell_type": "markdown",
   "metadata": {},
   "source": [
    "## cleaned the data, now create features"
   ]
  },
  {
   "cell_type": "code",
   "execution_count": 311,
   "metadata": {},
   "outputs": [],
   "source": [
    "scaled_crimes['PopulationSq'] = (scaled_crimes['Population']) ** 2\n",
    "scaled_crimes['PopulationCube'] = (scaled_crimes['Population']) ** 3\n",
    "scaled_crimes['PopXMurder'] = scaled_crimes['Population'] * scaled_crimes['Murder and\\nnonnegligent\\nmanslaughter']\n",
    "scaled_crimes['PopXRobbery'] = scaled_crimes['Population'] * scaled_crimes['Robbery']\n",
    "scaled_crimes['PopXBurglary'] = scaled_crimes['Population'] * scaled_crimes['Burglary']\n",
    "scaled_crimes['PopXLarceny'] = scaled_crimes['Population'] * scaled_crimes['Larceny-\\ntheft']\n",
    "scaled_crimes['PopXMotorTheft'] = scaled_crimes['Population'] * scaled_crimes['Motor\\nvehicle\\ntheft']\n",
    "scaled_crimes['PopXRape'] = scaled_crimes['Population'] * scaled_crimes['Rape']\n",
    "scaled_crimes['RobXMurder'] = scaled_crimes['Robbery'] * scaled_crimes['Murder and\\nnonnegligent\\nmanslaughter']\n",
    "scaled_crimes['RapeXMurder'] = scaled_crimes['Rape'] * scaled_crimes['Murder and\\nnonnegligent\\nmanslaughter']\n",
    "scaled_crimes['LarcenyXMurder'] = scaled_crimes['Larceny-\\ntheft'] * scaled_crimes['Murder and\\nnonnegligent\\nmanslaughter']\n",
    "scaled_crimes['BurglaryXMurder'] = scaled_crimes['Burglary'] * scaled_crimes['Murder and\\nnonnegligent\\nmanslaughter']\n",
    "scaled_crimes['RobberyXLarceny'] = scaled_crimes['Robbery'] * scaled_crimes['Larceny-\\ntheft']\n",
    "scaled_crimes['BurglaryXLarceny'] = scaled_crimes['Burglary'] * scaled_crimes['Larceny-\\ntheft']\n",
    "scaled_crimes['RapeXLarceny'] = scaled_crimes['Rape'] * scaled_crimes['Larceny-\\ntheft']\n",
    "scaled_crimes['MotorTheftXLarceny'] = scaled_crimes['Motor\\nvehicle\\ntheft'] * scaled_crimes['Larceny-\\ntheft']\n",
    "scaled_crimes['BurglaryXMotorTheft'] = scaled_crimes['Burglary'] * scaled_crimes['Motor\\nvehicle\\ntheft']\n",
    "scaled_crimes['RapeXRobbery'] = scaled_crimes['Rape'] * scaled_crimes['Robbery']\n",
    "scaled_crimes['RapeXBurglary'] = scaled_crimes['Rape'] * scaled_crimes['Burglary']\n",
    "scaled_crimes['RapeXMotorTheft'] = scaled_crimes['Rape'] * scaled_crimes['Motor\\nvehicle\\ntheft']\n"
   ]
  },
  {
   "cell_type": "markdown",
   "metadata": {},
   "source": [
    "## split training and test sets"
   ]
  },
  {
   "cell_type": "code",
   "execution_count": 312,
   "metadata": {},
   "outputs": [],
   "source": [
    "trainsize = int(scaled_crimes.shape[0] / 2)\n",
    "crimes_test = scaled_crimes.iloc[trainsize:, :].copy()\n",
    "crimes_train = scaled_crimes.iloc[:trainsize, :].copy()"
   ]
  },
  {
   "cell_type": "code",
   "execution_count": 313,
   "metadata": {},
   "outputs": [],
   "source": [
    "Y_train = crimes_train['Assault_Category']\n",
    "X_train = crimes_train.loc[:, ~(crimes_train.columns).isin(['Assault_Category'])]\n",
    "\n",
    "Y_test = crimes_test['Assault_Category']\n",
    "X_test = crimes_test.loc[:, ~(crimes_test.columns).isin(['Assault_Category'])]\n"
   ]
  },
  {
   "cell_type": "code",
   "execution_count": 298,
   "metadata": {},
   "outputs": [
    {
     "data": {
      "text/html": [
       "<div>\n",
       "<style>\n",
       "    .dataframe thead tr:only-child th {\n",
       "        text-align: right;\n",
       "    }\n",
       "\n",
       "    .dataframe thead th {\n",
       "        text-align: left;\n",
       "    }\n",
       "\n",
       "    .dataframe tbody tr th {\n",
       "        vertical-align: top;\n",
       "    }\n",
       "</style>\n",
       "<table border=\"1\" class=\"dataframe\">\n",
       "  <thead>\n",
       "    <tr style=\"text-align: right;\">\n",
       "      <th></th>\n",
       "      <th>Population_Category</th>\n",
       "    </tr>\n",
       "  </thead>\n",
       "  <tbody>\n",
       "    <tr>\n",
       "      <th>0</th>\n",
       "      <td>medium_city</td>\n",
       "    </tr>\n",
       "    <tr>\n",
       "      <th>1</th>\n",
       "      <td>medium_city</td>\n",
       "    </tr>\n",
       "    <tr>\n",
       "      <th>2</th>\n",
       "      <td>village</td>\n",
       "    </tr>\n",
       "    <tr>\n",
       "      <th>3</th>\n",
       "      <td>village</td>\n",
       "    </tr>\n",
       "    <tr>\n",
       "      <th>4</th>\n",
       "      <td>village</td>\n",
       "    </tr>\n",
       "  </tbody>\n",
       "</table>\n",
       "</div>"
      ],
      "text/plain": [
       "  Population_Category\n",
       "0         medium_city\n",
       "1         medium_city\n",
       "2             village\n",
       "3             village\n",
       "4             village"
      ]
     },
     "execution_count": 298,
     "metadata": {},
     "output_type": "execute_result"
    }
   ],
   "source": [
    "new_df = pd.DataFrame()\n",
    "\n",
    "raw_pop = raw_crimes['Population']\n",
    "bins = [0, 10000, 15000, 25000, 50000, 75000, 300000, 10000000]\n",
    "labels = ['village',\n",
    "          'small_town',\n",
    "          'med_town',\n",
    "          'lg_town',\n",
    "          'small_city',\n",
    "          'medium_city',\n",
    "          'large_city']\n",
    "\n",
    "new_df['Population_Category'] = pd.cut(raw_pop, bins=bins,labels=labels)\n",
    "\n",
    "new_df.head()"
   ]
  },
  {
   "cell_type": "code",
   "execution_count": 299,
   "metadata": {},
   "outputs": [
    {
     "data": {
      "text/plain": [
       "village        210\n",
       "lg_town         44\n",
       "med_town        38\n",
       "small_town      35\n",
       "medium_city     12\n",
       "small_city       8\n",
       "large_city       1\n",
       "Name: Population_Category, dtype: int64"
      ]
     },
     "execution_count": 299,
     "metadata": {},
     "output_type": "execute_result"
    }
   ],
   "source": [
    "new_df['Population_Category'].value_counts()"
   ]
  },
  {
   "cell_type": "code",
   "execution_count": 303,
   "metadata": {},
   "outputs": [],
   "source": [
    "cleanup_nums = {'Population_Category':     {'village': 1,\n",
    "                                            'small_town': 2,\n",
    "                                            'med_town': 3,\n",
    "                                            'lg_town': 4,\n",
    "                                            'small_city': 5,\n",
    "                                            'medium_city': 6,\n",
    "                                            'large_city': 7}}"
   ]
  },
  {
   "cell_type": "code",
   "execution_count": 304,
   "metadata": {},
   "outputs": [],
   "source": [
    "new_df.replace(cleanup_nums, inplace=True)"
   ]
  },
  {
   "cell_type": "markdown",
   "metadata": {},
   "source": [
    "# Models"
   ]
  },
  {
   "cell_type": "code",
   "execution_count": 307,
   "metadata": {
    "scrolled": false
   },
   "outputs": [
    {
     "data": {
      "image/png": "[encoded data removed]",
      "text/plain": [
       "<matplotlib.figure.Figure at 0x11df794e0>"
      ]
     },
     "metadata": {},
     "output_type": "display_data"
    },
    {
     "data": {
      "image/png": "[encoded data removed]",
      "text/plain": [
       "<matplotlib.figure.Figure at 0x11db93080>"
      ]
     },
     "metadata": {},
     "output_type": "display_data"
    }
   ],
   "source": [
    "x = new_df['Population_Category']\n",
    "bin_y = scaled_crimes['Assault_Category']\n",
    "\n",
    "xvals = np.unique(x)\n",
    "\n",
    "yodds = []\n",
    "for xi in xvals: \n",
    "    y1_ct = bin_y[x == xi].sum()  \n",
    "    y0_ct = len(bin_y[x == xi]) - y1_ct +.0001 \n",
    "    yodds.append((y1_ct / y0_ct))  \n",
    "      \n",
    "fit = np.polyfit(xvals, yodds, 1)\n",
    "fit_fn = np.poly1d(fit)\n",
    "\n",
    "plt.plot(xvals, yodds, 'yo', xvals, fit_fn(xvals), '--k')\n",
    "plt.xlabel('Continuous x')\n",
    "plt.ylabel('Odds of y=1')\n",
    "plt.show()\n",
    "\n",
    "ln_yodds = np.log(yodds)\n",
    "fit2 = np.polyfit(xvals, ln_yodds, 1)\n",
    "fit_fn2 = np.poly1d(fit2)\n",
    "\n",
    "plt.plot(xvals, ln_yodds, 'yo', xvals, fit_fn2(xvals), '--k')\n",
    "plt.xlabel('Continuous x')\n",
    "plt.ylabel('Log odds of y=1')\n",
    "plt.show()"
   ]
  },
  {
   "cell_type": "code",
   "execution_count": 329,
   "metadata": {
    "scrolled": false
   },
   "outputs": [
    {
     "name": "stdout",
     "output_type": "stream",
     "text": [
      "test alpha 1\n",
      "-0.0593118433604\n",
      "-8.35046777104\n"
     ]
    }
   ],
   "source": [
    "#Ridge\n",
    "\n",
    "ridgeregr1 = linear_model.Ridge(alpha=1, fit_intercept=False) \n",
    "ridgeregr1.fit(X_train, Y_train)\n",
    "print(\"test alpha 1\")\n",
    "print(ridgeregr1.score(X_train, Y_train))\n",
    "print(ridgeregr1.score(X_test, Y_test))"
   ]
  },
  {
   "cell_type": "code",
   "execution_count": 330,
   "metadata": {},
   "outputs": [
    {
     "name": "stdout",
     "output_type": "stream",
     "text": [
      "test alpha 5\n",
      "-0.260863817007\n",
      "-1.4147882462\n"
     ]
    }
   ],
   "source": [
    "ridgeregr2 = linear_model.Ridge(alpha=5, fit_intercept=False) \n",
    "ridgeregr2.fit(X_train, Y_train)\n",
    "print(\"test alpha 5\")\n",
    "print(ridgeregr2.score(X_train, Y_train))\n",
    "print(ridgeregr2.score(X_test, Y_test))"
   ]
  },
  {
   "cell_type": "code",
   "execution_count": 331,
   "metadata": {},
   "outputs": [
    {
     "name": "stdout",
     "output_type": "stream",
     "text": [
      "test alpha 10\n",
      "-0.3205497964\n",
      "-0.48634344365\n"
     ]
    }
   ],
   "source": [
    "ridgeregr3 = linear_model.Ridge(alpha=10, fit_intercept=False) \n",
    "ridgeregr3.fit(X_train, Y_train)\n",
    "print(\"test alpha 10\")\n",
    "print(ridgeregr3.score(X_train, Y_train))\n",
    "print(ridgeregr3.score(X_test, Y_test))"
   ]
  },
  {
   "cell_type": "code",
   "execution_count": 333,
   "metadata": {},
   "outputs": [
    {
     "name": "stdout",
     "output_type": "stream",
     "text": [
      "test alpha 20\n",
      "-0.359331690866\n",
      "-0.218457526489\n"
     ]
    }
   ],
   "source": [
    "ridgeregr4 = linear_model.Ridge(alpha=20, fit_intercept=False) \n",
    "ridgeregr4.fit(X_train, Y_train)\n",
    "print(\"test alpha 20\")\n",
    "print(ridgeregr4.score(X_train, Y_train))\n",
    "print(ridgeregr4.score(X_test, Y_test))"
   ]
  },
  {
   "cell_type": "code",
   "execution_count": 332,
   "metadata": {},
   "outputs": [
    {
     "name": "stdout",
     "output_type": "stream",
     "text": [
      "test alpha 50\n",
      "-0.387856241496\n",
      "-0.191198436691\n"
     ]
    }
   ],
   "source": [
    "ridgeregr5 = linear_model.Ridge(alpha=50, fit_intercept=False) \n",
    "ridgeregr5.fit(X_train, Y_train)\n",
    "print('test alpha 50')\n",
    "print(ridgeregr5.score(X_train, Y_train))\n",
    "print(ridgeregr5.score(X_test, Y_test))"
   ]
  },
  {
   "cell_type": "code",
   "execution_count": 334,
   "metadata": {},
   "outputs": [
    {
     "name": "stdout",
     "output_type": "stream",
     "text": [
      "R² for the model:\n",
      "0.0131942911818\n",
      "-0.0462404363306\n"
     ]
    }
   ],
   "source": [
    "#Lasso\n",
    "\n",
    "lass1 = linear_model.Lasso(alpha=.35)\n",
    "lassfit1 = lass1.fit(X_train, Y_train)\n",
    "print('R² for the model:')\n",
    "print(lass1.score(X_train, Y_train))\n",
    "print(lass1.score(X_test, Y_test))\n"
   ]
  },
  {
   "cell_type": "code",
   "execution_count": 335,
   "metadata": {},
   "outputs": [
    {
     "name": "stdout",
     "output_type": "stream",
     "text": [
      "R² for the model:\n",
      "0.013191742452\n",
      "-0.046265112811\n"
     ]
    }
   ],
   "source": [
    "lass2 = linear_model.Lasso(alpha=.5)\n",
    "lassfit2 = lass2.fit(X_train, Y_train)\n",
    "print('R² for the model:')\n",
    "print(lass2.score(X_train, Y_train))\n",
    "print(lass2.score(X_test, Y_test))\n"
   ]
  },
  {
   "cell_type": "code",
   "execution_count": 336,
   "metadata": {},
   "outputs": [
    {
     "name": "stdout",
     "output_type": "stream",
     "text": [
      "R² for the model:\n",
      "0.0131767499236\n",
      "-0.0463474152532\n"
     ]
    }
   ],
   "source": [
    "lass3 = linear_model.Lasso(alpha=1)\n",
    "lassfit3 = lass3.fit(X_train, Y_train)\n",
    "print('R² for the model:')\n",
    "print(lass3.score(X_train, Y_train))\n",
    "print(lass3.score(X_test, Y_test))\n"
   ]
  },
  {
   "cell_type": "code",
   "execution_count": 337,
   "metadata": {},
   "outputs": [
    {
     "name": "stdout",
     "output_type": "stream",
     "text": [
      "R² for the model:\n",
      "0.0126969890157\n",
      "-0.0470084659696\n"
     ]
    }
   ],
   "source": [
    "lass4 = linear_model.Lasso(alpha=5)\n",
    "lassfit4 = lass4.fit(X_train, Y_train)\n",
    "print('R² for the model:')\n",
    "print(lass4.score(X_train, Y_train))\n",
    "print(lass4.score(X_test, Y_test))\n"
   ]
  },
  {
   "cell_type": "code",
   "execution_count": 338,
   "metadata": {},
   "outputs": [
    {
     "name": "stdout",
     "output_type": "stream",
     "text": [
      "R² for the model:\n",
      "0.0111977361786\n",
      "-0.0478413573118\n"
     ]
    }
   ],
   "source": [
    "lass5 = linear_model.Lasso(alpha=10)\n",
    "lassfit5 = lass5.fit(X_train, Y_train)\n",
    "print('R² for the model:')\n",
    "print(lass5.score(X_train, Y_train))\n",
    "print(lass5.score(X_test, Y_test))\n"
   ]
  },
  {
   "cell_type": "code",
   "execution_count": 339,
   "metadata": {},
   "outputs": [
    {
     "name": "stdout",
     "output_type": "stream",
     "text": [
      "R² score\n",
      "0.827586206897\n",
      "0.82183908046\n"
     ]
    }
   ],
   "source": [
    "# sklearn Logistic Regression model\n",
    "\n",
    "logregr = linear_model.LogisticRegression(fit_intercept=False)\n",
    "logregrfit = logregr.fit(X_train, Y_train)\n",
    "print('R² score')\n",
    "print(logregr.score(X_train, Y_train))\n",
    "print(logregr.score(X_test, Y_test))"
   ]
  },
  {
   "cell_type": "code",
   "execution_count": 341,
   "metadata": {},
   "outputs": [
    {
     "name": "stdout",
     "output_type": "stream",
     "text": [
      "R² score\n",
      "0.827586206897\n",
      "0.82183908046\n"
     ]
    }
   ],
   "source": [
    "logregr2 = linear_model.LogisticRegression(penalty='l2',\n",
    "                                           fit_intercept=False)\n",
    "logregrfit2 = logregr2.fit(X_train, Y_train)\n",
    "print('R² score')\n",
    "print(logregr2.score(X_train, Y_train))\n",
    "print(logregr2.score(X_test, Y_test))"
   ]
  },
  {
   "cell_type": "code",
   "execution_count": 340,
   "metadata": {},
   "outputs": [
    {
     "name": "stdout",
     "output_type": "stream",
     "text": [
      "R² score\n",
      "0.850574712644\n",
      "0.833333333333\n"
     ]
    }
   ],
   "source": [
    "logregr3 = linear_model.LogisticRegression(penalty='l1',\n",
    "                                           fit_intercept=False)\n",
    "logregrfit3 = logregr3.fit(X_train, Y_train)\n",
    "print('R² score')\n",
    "print(logregr3.score(X_train, Y_train))\n",
    "print(logregr3.score(X_test, Y_test))"
   ]
  },
  {
   "cell_type": "markdown",
   "metadata": {},
   "source": [
    "# REPORT TIME "
   ]
  },
  {
   "cell_type": "markdown",
   "metadata": {},
   "source": [
    "I chose to make Assault the outcome variable for this experiment.  I squared and cubed population, and multiplied a few of the variables together to see if we could capture any relationships there. \n",
    "\n",
    "Of all three models, the SKLearn built in LogisticRegression function with the L1 penalty attained the highest R^2 score of all models tested. The Ridge and Lasso regressions performed quite poorly. \n",
    "\n",
    "The vanilla regression, done only on Population, showed a poor fitting to the regression line. Only two of the points were close to the line, with the others falling farther and farther away. \n",
    "\n",
    "The Ridge regressions best score was -.38 on the training set and the score dropped to -.19 with the test set. This regression does not work well for this data set. \n",
    "\n",
    "The Lasso regression scored nearly zero for every iteration of the test that was run on every hyper parameter adjustment. This regression also does not work well for this data set. \n",
    "\n",
    "Finally, I tried SKLearn’s built in LogisticRegression model. That model performed quite well. The R^2 score for each iteration of the model was  much higher than expected, with regard to how the other regressions went. The L2 regression preformed the best from training to test set, with almost no change in the score when using the test set. The scores were .827 for training and .821 for testing. The L1 regressions score dipped a little when tested against the test set, going from .85 to .83.\n",
    "\n",
    "Given the scores for each model, I would choose linear_model.LogisticRegression with the L2 penalty as the best model. "
   ]
  },
  {
   "cell_type": "code",
   "execution_count": null,
   "metadata": {
    "collapsed": true
   },
   "outputs": [],
   "source": []
  }
 ],
 "metadata": {
  "kernelspec": {
   "display_name": "Python 3",
   "language": "python",
   "name": "python3"
  },
  "language_info": {
   "codemirror_mode": {
    "name": "ipython",
    "version": 3
   },
   "file_extension": ".py",
   "mimetype": "text/x-python",
   "name": "python",
   "nbconvert_exporter": "python",
   "pygments_lexer": "ipython3",
   "version": "3.6.1"
  }
 },
 "nbformat": 4,
 "nbformat_minor": 2
}
