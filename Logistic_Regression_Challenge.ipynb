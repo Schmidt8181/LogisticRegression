{
 "cells": [
  {
   "cell_type": "code",
   "execution_count": 52,
   "metadata": {
    "collapsed": true
   },
   "outputs": [],
   "source": [
    "%matplotlib inline\n",
    "import numpy as np\n",
    "import pandas as pd\n",
    "import scipy\n",
    "import sklearn\n",
    "from sklearn import linear_model\n",
    "from sklearn.model_selection import train_test_split\n",
    "from sklearn import preprocessing\n",
    "import matplotlib.pyplot as plt\n",
    "import seaborn as sns"
   ]
  },
  {
   "cell_type": "code",
   "execution_count": 36,
   "metadata": {},
   "outputs": [
    {
     "data": {
      "text/html": [
       "<div>\n",
       "<style>\n",
       "    .dataframe thead tr:only-child th {\n",
       "        text-align: right;\n",
       "    }\n",
       "\n",
       "    .dataframe thead th {\n",
       "        text-align: left;\n",
       "    }\n",
       "\n",
       "    .dataframe tbody tr th {\n",
       "        vertical-align: top;\n",
       "    }\n",
       "</style>\n",
       "<table border=\"1\" class=\"dataframe\">\n",
       "  <thead>\n",
       "    <tr style=\"text-align: right;\">\n",
       "      <th></th>\n",
       "      <th>City</th>\n",
       "      <th>Population</th>\n",
       "      <th>Violent\n",
       "crime</th>\n",
       "      <th>Murder and\n",
       "nonnegligent\n",
       "manslaughter</th>\n",
       "      <th>Rape\n",
       "(revised\n",
       "definition)1</th>\n",
       "      <th>Rape\n",
       "(legacy\n",
       "definition)2</th>\n",
       "      <th>Robbery</th>\n",
       "      <th>Aggravated\n",
       "assault</th>\n",
       "      <th>Property\n",
       "crime</th>\n",
       "      <th>Burglary</th>\n",
       "      <th>Larceny-\n",
       "theft</th>\n",
       "      <th>Motor\n",
       "vehicle\n",
       "theft</th>\n",
       "      <th>Arson3</th>\n",
       "    </tr>\n",
       "  </thead>\n",
       "  <tbody>\n",
       "    <tr>\n",
       "      <th>0</th>\n",
       "      <td>Albany</td>\n",
       "      <td>97,956</td>\n",
       "      <td>791</td>\n",
       "      <td>8.0</td>\n",
       "      <td>NaN</td>\n",
       "      <td>30</td>\n",
       "      <td>227</td>\n",
       "      <td>526</td>\n",
       "      <td>4,090</td>\n",
       "      <td>705</td>\n",
       "      <td>3,243</td>\n",
       "      <td>142</td>\n",
       "      <td>NaN</td>\n",
       "    </tr>\n",
       "    <tr>\n",
       "      <th>1</th>\n",
       "      <td>Greece Town</td>\n",
       "      <td>96,667</td>\n",
       "      <td>151</td>\n",
       "      <td>0.0</td>\n",
       "      <td>NaN</td>\n",
       "      <td>9</td>\n",
       "      <td>60</td>\n",
       "      <td>82</td>\n",
       "      <td>2,303</td>\n",
       "      <td>332</td>\n",
       "      <td>1,925</td>\n",
       "      <td>46</td>\n",
       "      <td>NaN</td>\n",
       "    </tr>\n",
       "    <tr>\n",
       "      <th>2</th>\n",
       "      <td>Sleepy Hollow Village</td>\n",
       "      <td>9,996</td>\n",
       "      <td>8</td>\n",
       "      <td>1.0</td>\n",
       "      <td>NaN</td>\n",
       "      <td>0</td>\n",
       "      <td>1</td>\n",
       "      <td>6</td>\n",
       "      <td>58</td>\n",
       "      <td>9</td>\n",
       "      <td>47</td>\n",
       "      <td>2</td>\n",
       "      <td>0.0</td>\n",
       "    </tr>\n",
       "    <tr>\n",
       "      <th>3</th>\n",
       "      <td>Potsdam Village</td>\n",
       "      <td>9,613</td>\n",
       "      <td>8</td>\n",
       "      <td>0.0</td>\n",
       "      <td>NaN</td>\n",
       "      <td>1</td>\n",
       "      <td>0</td>\n",
       "      <td>7</td>\n",
       "      <td>190</td>\n",
       "      <td>17</td>\n",
       "      <td>168</td>\n",
       "      <td>5</td>\n",
       "      <td>NaN</td>\n",
       "    </tr>\n",
       "    <tr>\n",
       "      <th>4</th>\n",
       "      <td>Cornwall Town</td>\n",
       "      <td>9,543</td>\n",
       "      <td>1</td>\n",
       "      <td>0.0</td>\n",
       "      <td>NaN</td>\n",
       "      <td>0</td>\n",
       "      <td>0</td>\n",
       "      <td>1</td>\n",
       "      <td>42</td>\n",
       "      <td>10</td>\n",
       "      <td>32</td>\n",
       "      <td>0</td>\n",
       "      <td>NaN</td>\n",
       "    </tr>\n",
       "  </tbody>\n",
       "</table>\n",
       "</div>"
      ],
      "text/plain": [
       "                    City Population Violent\\ncrime  \\\n",
       "0                 Albany     97,956            791   \n",
       "1            Greece Town     96,667            151   \n",
       "2  Sleepy Hollow Village      9,996              8   \n",
       "3        Potsdam Village      9,613              8   \n",
       "4          Cornwall Town      9,543              1   \n",
       "\n",
       "   Murder and\\nnonnegligent\\nmanslaughter  Rape\\n(revised\\ndefinition)1  \\\n",
       "0                                     8.0                           NaN   \n",
       "1                                     0.0                           NaN   \n",
       "2                                     1.0                           NaN   \n",
       "3                                     0.0                           NaN   \n",
       "4                                     0.0                           NaN   \n",
       "\n",
       "  Rape\\n(legacy\\ndefinition)2 Robbery Aggravated\\nassault Property\\ncrime  \\\n",
       "0                          30     227                 526           4,090   \n",
       "1                           9      60                  82           2,303   \n",
       "2                           0       1                   6              58   \n",
       "3                           1       0                   7             190   \n",
       "4                           0       0                   1              42   \n",
       "\n",
       "  Burglary Larceny-\\ntheft Motor\\nvehicle\\ntheft  Arson3  \n",
       "0      705           3,243                   142     NaN  \n",
       "1      332           1,925                    46     NaN  \n",
       "2        9              47                     2     0.0  \n",
       "3       17             168                     5     NaN  \n",
       "4       10              32                     0     NaN  "
      ]
     },
     "execution_count": 36,
     "metadata": {},
     "output_type": "execute_result"
    }
   ],
   "source": [
    "data = ('/Users/Beba/Documents/JupyterNotebooks/NY2013Crimes.csv')\n",
    "raw_crimes = pd.read_csv(data)\n",
    "raw_crimes.head()"
   ]
  },
  {
   "cell_type": "code",
   "execution_count": 39,
   "metadata": {
    "collapsed": true
   },
   "outputs": [],
   "source": [
    "raw_crimes.drop('Arson3', axis=1, inplace=True)"
   ]
  },
  {
   "cell_type": "code",
   "execution_count": 42,
   "metadata": {},
   "outputs": [
    {
     "data": {
      "text/plain": [
       "City                                      0\n",
       "Population                                0\n",
       "Violent\\ncrime                            0\n",
       "Murder and\\nnonnegligent\\nmanslaughter    0\n",
       "Rape\\n(legacy\\ndefinition)2               0\n",
       "Robbery                                   0\n",
       "Aggravated\\nassault                       0\n",
       "Property\\ncrime                           0\n",
       "Burglary                                  0\n",
       "Larceny-\\ntheft                           0\n",
       "Motor\\nvehicle\\ntheft                     0\n",
       "dtype: int64"
      ]
     },
     "execution_count": 42,
     "metadata": {},
     "output_type": "execute_result"
    }
   ],
   "source": [
    "raw_crimes.isnull().sum()"
   ]
  },
  {
   "cell_type": "code",
   "execution_count": 40,
   "metadata": {
    "collapsed": true
   },
   "outputs": [],
   "source": [
    "raw_crimes.dropna(axis=0, inplace=True)"
   ]
  },
  {
   "cell_type": "code",
   "execution_count": 41,
   "metadata": {},
   "outputs": [
    {
     "data": {
      "text/html": [
       "<div>\n",
       "<style>\n",
       "    .dataframe thead tr:only-child th {\n",
       "        text-align: right;\n",
       "    }\n",
       "\n",
       "    .dataframe thead th {\n",
       "        text-align: left;\n",
       "    }\n",
       "\n",
       "    .dataframe tbody tr th {\n",
       "        vertical-align: top;\n",
       "    }\n",
       "</style>\n",
       "<table border=\"1\" class=\"dataframe\">\n",
       "  <thead>\n",
       "    <tr style=\"text-align: right;\">\n",
       "      <th></th>\n",
       "      <th>City</th>\n",
       "      <th>Population</th>\n",
       "      <th>Violent\n",
       "crime</th>\n",
       "      <th>Murder and\n",
       "nonnegligent\n",
       "manslaughter</th>\n",
       "      <th>Rape\n",
       "(legacy\n",
       "definition)2</th>\n",
       "      <th>Robbery</th>\n",
       "      <th>Aggravated\n",
       "assault</th>\n",
       "      <th>Property\n",
       "crime</th>\n",
       "      <th>Burglary</th>\n",
       "      <th>Larceny-\n",
       "theft</th>\n",
       "      <th>Motor\n",
       "vehicle\n",
       "theft</th>\n",
       "    </tr>\n",
       "  </thead>\n",
       "  <tbody>\n",
       "    <tr>\n",
       "      <th>0</th>\n",
       "      <td>Albany</td>\n",
       "      <td>97,956</td>\n",
       "      <td>791</td>\n",
       "      <td>8.0</td>\n",
       "      <td>30</td>\n",
       "      <td>227</td>\n",
       "      <td>526</td>\n",
       "      <td>4,090</td>\n",
       "      <td>705</td>\n",
       "      <td>3,243</td>\n",
       "      <td>142</td>\n",
       "    </tr>\n",
       "    <tr>\n",
       "      <th>1</th>\n",
       "      <td>Greece Town</td>\n",
       "      <td>96,667</td>\n",
       "      <td>151</td>\n",
       "      <td>0.0</td>\n",
       "      <td>9</td>\n",
       "      <td>60</td>\n",
       "      <td>82</td>\n",
       "      <td>2,303</td>\n",
       "      <td>332</td>\n",
       "      <td>1,925</td>\n",
       "      <td>46</td>\n",
       "    </tr>\n",
       "    <tr>\n",
       "      <th>2</th>\n",
       "      <td>Sleepy Hollow Village</td>\n",
       "      <td>9,996</td>\n",
       "      <td>8</td>\n",
       "      <td>1.0</td>\n",
       "      <td>0</td>\n",
       "      <td>1</td>\n",
       "      <td>6</td>\n",
       "      <td>58</td>\n",
       "      <td>9</td>\n",
       "      <td>47</td>\n",
       "      <td>2</td>\n",
       "    </tr>\n",
       "    <tr>\n",
       "      <th>3</th>\n",
       "      <td>Potsdam Village</td>\n",
       "      <td>9,613</td>\n",
       "      <td>8</td>\n",
       "      <td>0.0</td>\n",
       "      <td>1</td>\n",
       "      <td>0</td>\n",
       "      <td>7</td>\n",
       "      <td>190</td>\n",
       "      <td>17</td>\n",
       "      <td>168</td>\n",
       "      <td>5</td>\n",
       "    </tr>\n",
       "    <tr>\n",
       "      <th>4</th>\n",
       "      <td>Cornwall Town</td>\n",
       "      <td>9,543</td>\n",
       "      <td>1</td>\n",
       "      <td>0.0</td>\n",
       "      <td>0</td>\n",
       "      <td>0</td>\n",
       "      <td>1</td>\n",
       "      <td>42</td>\n",
       "      <td>10</td>\n",
       "      <td>32</td>\n",
       "      <td>0</td>\n",
       "    </tr>\n",
       "  </tbody>\n",
       "</table>\n",
       "</div>"
      ],
      "text/plain": [
       "                    City Population Violent\\ncrime  \\\n",
       "0                 Albany     97,956            791   \n",
       "1            Greece Town     96,667            151   \n",
       "2  Sleepy Hollow Village      9,996              8   \n",
       "3        Potsdam Village      9,613              8   \n",
       "4          Cornwall Town      9,543              1   \n",
       "\n",
       "   Murder and\\nnonnegligent\\nmanslaughter Rape\\n(legacy\\ndefinition)2 Robbery  \\\n",
       "0                                     8.0                          30     227   \n",
       "1                                     0.0                           9      60   \n",
       "2                                     1.0                           0       1   \n",
       "3                                     0.0                           1       0   \n",
       "4                                     0.0                           0       0   \n",
       "\n",
       "  Aggravated\\nassault Property\\ncrime Burglary Larceny-\\ntheft  \\\n",
       "0                 526           4,090      705           3,243   \n",
       "1                  82           2,303      332           1,925   \n",
       "2                   6              58        9              47   \n",
       "3                   7             190       17             168   \n",
       "4                   1              42       10              32   \n",
       "\n",
       "  Motor\\nvehicle\\ntheft  \n",
       "0                   142  \n",
       "1                    46  \n",
       "2                     2  \n",
       "3                     5  \n",
       "4                     0  "
      ]
     },
     "execution_count": 41,
     "metadata": {},
     "output_type": "execute_result"
    }
   ],
   "source": [
    "raw_crimes.head()"
   ]
  },
  {
   "cell_type": "code",
   "execution_count": 54,
   "metadata": {},
   "outputs": [
    {
     "data": {
      "text/plain": [
       "City                                       object\n",
       "Population                                float64\n",
       "Violent\\ncrime                            float64\n",
       "Murder and\\nnonnegligent\\nmanslaughter    float64\n",
       "Rape\\n(legacy\\ndefinition)2                object\n",
       "Robbery                                   float64\n",
       "Aggravated\\nassault                        object\n",
       "Property\\ncrime                           float64\n",
       "Burglary                                  float64\n",
       "Larceny-\\ntheft                           float64\n",
       "Motor\\nvehicle\\ntheft                     float64\n",
       "Rape                                      float64\n",
       "Assault                                   float64\n",
       "dtype: object"
      ]
     },
     "execution_count": 54,
     "metadata": {},
     "output_type": "execute_result"
    }
   ],
   "source": [
    "raw_crimes.dtypes"
   ]
  },
  {
   "cell_type": "code",
   "execution_count": 48,
   "metadata": {},
   "outputs": [],
   "source": [
    "raw_crimes['Rape'] = raw_crimes['Rape\\n(legacy\\ndefinition)2'].str.replace(',','').astype(float)\n",
    "raw_crimes['Robbery'] = raw_crimes['Robbery'].str.replace(',','').astype(float)\n",
    "raw_crimes['Assault'] = raw_crimes['Aggravated\\nassault'].str.replace(',','').astype(float)\n",
    "raw_crimes['Property\\ncrime'] = raw_crimes['Property\\ncrime'].str.replace(',','').astype(float)\n",
    "raw_crimes['Burglary'] = raw_crimes['Burglary'].str.replace(',','').astype(float)\n",
    "raw_crimes['Larceny-\\ntheft'] = raw_crimes['Larceny-\\ntheft'].str.replace(',','').astype(float)\n",
    "raw_crimes['Motor\\nvehicle\\ntheft'] = raw_crimes['Motor\\nvehicle\\ntheft'].str.replace(',','').astype(float)\n"
   ]
  },
  {
   "cell_type": "code",
   "execution_count": 63,
   "metadata": {},
   "outputs": [
    {
     "data": {
      "text/plain": [
       "City                                       object\n",
       "Population                                float64\n",
       "Violent\\ncrime                            float64\n",
       "Murder and\\nnonnegligent\\nmanslaughter    float64\n",
       "Robbery                                   float64\n",
       "Property\\ncrime                           float64\n",
       "Burglary                                  float64\n",
       "Larceny-\\ntheft                           float64\n",
       "Motor\\nvehicle\\ntheft                     float64\n",
       "Rape                                      float64\n",
       "Assault                                   float64\n",
       "dtype: object"
      ]
     },
     "execution_count": 63,
     "metadata": {},
     "output_type": "execute_result"
    }
   ],
   "source": [
    "raw_crimes.dtypes"
   ]
  },
  {
   "cell_type": "code",
   "execution_count": 50,
   "metadata": {},
   "outputs": [
    {
     "data": {
      "text/html": [
       "<div>\n",
       "<style>\n",
       "    .dataframe thead tr:only-child th {\n",
       "        text-align: right;\n",
       "    }\n",
       "\n",
       "    .dataframe thead th {\n",
       "        text-align: left;\n",
       "    }\n",
       "\n",
       "    .dataframe tbody tr th {\n",
       "        vertical-align: top;\n",
       "    }\n",
       "</style>\n",
       "<table border=\"1\" class=\"dataframe\">\n",
       "  <thead>\n",
       "    <tr style=\"text-align: right;\">\n",
       "      <th></th>\n",
       "      <th>City</th>\n",
       "      <th>Population</th>\n",
       "      <th>Violent\n",
       "crime</th>\n",
       "      <th>Murder and\n",
       "nonnegligent\n",
       "manslaughter</th>\n",
       "      <th>Rape\n",
       "(legacy\n",
       "definition)2</th>\n",
       "      <th>Robbery</th>\n",
       "      <th>Aggravated\n",
       "assault</th>\n",
       "      <th>Property\n",
       "crime</th>\n",
       "      <th>Burglary</th>\n",
       "      <th>Larceny-\n",
       "theft</th>\n",
       "      <th>Motor\n",
       "vehicle\n",
       "theft</th>\n",
       "      <th>Rape</th>\n",
       "      <th>Assault</th>\n",
       "    </tr>\n",
       "  </thead>\n",
       "  <tbody>\n",
       "    <tr>\n",
       "      <th>0</th>\n",
       "      <td>Albany</td>\n",
       "      <td>97956.0</td>\n",
       "      <td>791.0</td>\n",
       "      <td>8.0</td>\n",
       "      <td>30</td>\n",
       "      <td>227.0</td>\n",
       "      <td>526</td>\n",
       "      <td>4090.0</td>\n",
       "      <td>705.0</td>\n",
       "      <td>3243.0</td>\n",
       "      <td>142.0</td>\n",
       "      <td>30.0</td>\n",
       "      <td>526.0</td>\n",
       "    </tr>\n",
       "    <tr>\n",
       "      <th>1</th>\n",
       "      <td>Greece Town</td>\n",
       "      <td>96667.0</td>\n",
       "      <td>151.0</td>\n",
       "      <td>0.0</td>\n",
       "      <td>9</td>\n",
       "      <td>60.0</td>\n",
       "      <td>82</td>\n",
       "      <td>2303.0</td>\n",
       "      <td>332.0</td>\n",
       "      <td>1925.0</td>\n",
       "      <td>46.0</td>\n",
       "      <td>9.0</td>\n",
       "      <td>82.0</td>\n",
       "    </tr>\n",
       "    <tr>\n",
       "      <th>2</th>\n",
       "      <td>Sleepy Hollow Village</td>\n",
       "      <td>9996.0</td>\n",
       "      <td>8.0</td>\n",
       "      <td>1.0</td>\n",
       "      <td>0</td>\n",
       "      <td>1.0</td>\n",
       "      <td>6</td>\n",
       "      <td>58.0</td>\n",
       "      <td>9.0</td>\n",
       "      <td>47.0</td>\n",
       "      <td>2.0</td>\n",
       "      <td>0.0</td>\n",
       "      <td>6.0</td>\n",
       "    </tr>\n",
       "    <tr>\n",
       "      <th>3</th>\n",
       "      <td>Potsdam Village</td>\n",
       "      <td>9613.0</td>\n",
       "      <td>8.0</td>\n",
       "      <td>0.0</td>\n",
       "      <td>1</td>\n",
       "      <td>0.0</td>\n",
       "      <td>7</td>\n",
       "      <td>190.0</td>\n",
       "      <td>17.0</td>\n",
       "      <td>168.0</td>\n",
       "      <td>5.0</td>\n",
       "      <td>1.0</td>\n",
       "      <td>7.0</td>\n",
       "    </tr>\n",
       "    <tr>\n",
       "      <th>4</th>\n",
       "      <td>Cornwall Town</td>\n",
       "      <td>9543.0</td>\n",
       "      <td>1.0</td>\n",
       "      <td>0.0</td>\n",
       "      <td>0</td>\n",
       "      <td>0.0</td>\n",
       "      <td>1</td>\n",
       "      <td>42.0</td>\n",
       "      <td>10.0</td>\n",
       "      <td>32.0</td>\n",
       "      <td>0.0</td>\n",
       "      <td>0.0</td>\n",
       "      <td>1.0</td>\n",
       "    </tr>\n",
       "  </tbody>\n",
       "</table>\n",
       "</div>"
      ],
      "text/plain": [
       "                    City  Population  Violent\\ncrime  \\\n",
       "0                 Albany     97956.0           791.0   \n",
       "1            Greece Town     96667.0           151.0   \n",
       "2  Sleepy Hollow Village      9996.0             8.0   \n",
       "3        Potsdam Village      9613.0             8.0   \n",
       "4          Cornwall Town      9543.0             1.0   \n",
       "\n",
       "   Murder and\\nnonnegligent\\nmanslaughter Rape\\n(legacy\\ndefinition)2  \\\n",
       "0                                     8.0                          30   \n",
       "1                                     0.0                           9   \n",
       "2                                     1.0                           0   \n",
       "3                                     0.0                           1   \n",
       "4                                     0.0                           0   \n",
       "\n",
       "   Robbery Aggravated\\nassault  Property\\ncrime  Burglary  Larceny-\\ntheft  \\\n",
       "0    227.0                 526           4090.0     705.0           3243.0   \n",
       "1     60.0                  82           2303.0     332.0           1925.0   \n",
       "2      1.0                   6             58.0       9.0             47.0   \n",
       "3      0.0                   7            190.0      17.0            168.0   \n",
       "4      0.0                   1             42.0      10.0             32.0   \n",
       "\n",
       "   Motor\\nvehicle\\ntheft  Rape  Assault  \n",
       "0                  142.0  30.0    526.0  \n",
       "1                   46.0   9.0     82.0  \n",
       "2                    2.0   0.0      6.0  \n",
       "3                    5.0   1.0      7.0  \n",
       "4                    0.0   0.0      1.0  "
      ]
     },
     "execution_count": 50,
     "metadata": {},
     "output_type": "execute_result"
    }
   ],
   "source": [
    "raw_crimes.head()"
   ]
  },
  {
   "cell_type": "code",
   "execution_count": 55,
   "metadata": {
    "collapsed": true
   },
   "outputs": [],
   "source": [
    "raw_crimes.drop(['Rape\\n(legacy\\ndefinition)2'], axis=1, inplace=True)\n",
    "raw_crimes.drop(['Aggravated\\nassault'], axis=1, inplace=True)"
   ]
  },
  {
   "cell_type": "code",
   "execution_count": 61,
   "metadata": {},
   "outputs": [],
   "source": [
    "scaled_crimes = pd.DataFrame()\n",
    "\n",
    "scaled_crimes['City'] = raw_crimes['City']\n",
    "scaled_crimes['Population'] = preprocessing.scale(raw_crimes['Population'])\n",
    "scaled_crimes['Violent\\ncrime'] = preprocessing.scale(raw_crimes['Violent\\ncrime'])\n",
    "scaled_crimes['Murder and\\nnonnegligent\\nmanslaughter'] = preprocessing.scale(raw_crimes['Murder and\\nnonnegligent\\nmanslaughter'])\n",
    "scaled_crimes['Robbery'] = preprocessing.scale(raw_crimes['Robbery'])\n",
    "scaled_crimes['Property\\ncrime'] = preprocessing.scale(raw_crimes['Property\\ncrime'])\n",
    "scaled_crimes['Burglary'] = preprocessing.scale(raw_crimes['Burglary'])\n",
    "scaled_crimes['Larceny-\\ntheft'] = preprocessing.scale(raw_crimes['Larceny-\\ntheft'])\n",
    "scaled_crimes['Motor\\nvehicle\\ntheft'] = preprocessing.scale(raw_crimes['Motor\\nvehicle\\ntheft'])\n",
    "scaled_crimes['Rape'] = preprocessing.scale(raw_crimes['Rape'])\n",
    "scaled_crimes['Assault'] = preprocessing.scale(raw_crimes['Assault'])\n"
   ]
  },
  {
   "cell_type": "code",
   "execution_count": 71,
   "metadata": {
    "collapsed": true
   },
   "outputs": [],
   "source": [
    "scaled_crimes.drop(['City'], inplace=True, axis=1)"
   ]
  },
  {
   "cell_type": "code",
   "execution_count": 129,
   "metadata": {
    "collapsed": true
   },
   "outputs": [],
   "source": [
    "scaled_crimes.drop(['Assault'], inplace=True, axis=1)"
   ]
  },
  {
   "cell_type": "code",
   "execution_count": 130,
   "metadata": {},
   "outputs": [],
   "source": [
    "from scipy.stats import mstats\n",
    "winsorized_Assault = mstats.winsorize(raw_crimes['Assault'], limits=[0.05, 0.05])\n",
    "\n",
    "scaled_crimes['Assault_Category'] = np.where((raw_crimes['Assault'] > (winsorized_Assault.mean())), 1, 0)"
   ]
  },
  {
   "cell_type": "code",
   "execution_count": 125,
   "metadata": {},
   "outputs": [
    {
     "data": {
      "text/plain": [
       "13.761494252873563"
      ]
     },
     "execution_count": 125,
     "metadata": {},
     "output_type": "execute_result"
    }
   ],
   "source": [
    "winsorized_Assault.mean()"
   ]
  },
  {
   "cell_type": "code",
   "execution_count": 126,
   "metadata": {},
   "outputs": [
    {
     "data": {
      "text/plain": [
       "121.26149425287356"
      ]
     },
     "execution_count": 126,
     "metadata": {},
     "output_type": "execute_result"
    }
   ],
   "source": [
    "raw_crimes['Assault'].mean()"
   ]
  },
  {
   "cell_type": "code",
   "execution_count": 140,
   "metadata": {},
   "outputs": [],
   "source": [
    "scaled_crimes.drop(['Violent\\ncrime'], inplace=True, axis=1)\n",
    "scaled_crimes.drop(['Property\\ncrime'], inplace=True, axis=1)"
   ]
  },
  {
   "cell_type": "code",
   "execution_count": 141,
   "metadata": {},
   "outputs": [
    {
     "data": {
      "text/html": [
       "<div>\n",
       "<style>\n",
       "    .dataframe thead tr:only-child th {\n",
       "        text-align: right;\n",
       "    }\n",
       "\n",
       "    .dataframe thead th {\n",
       "        text-align: left;\n",
       "    }\n",
       "\n",
       "    .dataframe tbody tr th {\n",
       "        vertical-align: top;\n",
       "    }\n",
       "</style>\n",
       "<table border=\"1\" class=\"dataframe\">\n",
       "  <thead>\n",
       "    <tr style=\"text-align: right;\">\n",
       "      <th></th>\n",
       "      <th>Population</th>\n",
       "      <th>Murder and\n",
       "nonnegligent\n",
       "manslaughter</th>\n",
       "      <th>Robbery</th>\n",
       "      <th>Burglary</th>\n",
       "      <th>Larceny-\n",
       "theft</th>\n",
       "      <th>Motor\n",
       "vehicle\n",
       "theft</th>\n",
       "      <th>Rape</th>\n",
       "      <th>PopulationSq</th>\n",
       "      <th>PopulationCube</th>\n",
       "      <th>PopXMurder</th>\n",
       "      <th>PopXRobbery</th>\n",
       "      <th>PopXBurglary</th>\n",
       "      <th>PopXLarceny</th>\n",
       "      <th>PopXMotorTheft</th>\n",
       "      <th>PopXRape</th>\n",
       "      <th>Assault_Category</th>\n",
       "    </tr>\n",
       "  </thead>\n",
       "  <tbody>\n",
       "    <tr>\n",
       "      <th>0</th>\n",
       "      <td>0.128882</td>\n",
       "      <td>0.352015</td>\n",
       "      <td>0.149675</td>\n",
       "      <td>0.633720</td>\n",
       "      <td>0.411237</td>\n",
       "      <td>0.263365</td>\n",
       "      <td>0.399994</td>\n",
       "      <td>0.016611</td>\n",
       "      <td>0.002141</td>\n",
       "      <td>0.045368</td>\n",
       "      <td>0.019290</td>\n",
       "      <td>0.081675</td>\n",
       "      <td>0.053001</td>\n",
       "      <td>0.033943</td>\n",
       "      <td>0.051552</td>\n",
       "      <td>1</td>\n",
       "    </tr>\n",
       "    <tr>\n",
       "      <th>1</th>\n",
       "      <td>0.126014</td>\n",
       "      <td>-0.085685</td>\n",
       "      <td>-0.012532</td>\n",
       "      <td>0.229874</td>\n",
       "      <td>0.203250</td>\n",
       "      <td>0.025059</td>\n",
       "      <td>0.051958</td>\n",
       "      <td>0.015879</td>\n",
       "      <td>0.002001</td>\n",
       "      <td>-0.010797</td>\n",
       "      <td>-0.001579</td>\n",
       "      <td>0.028967</td>\n",
       "      <td>0.025612</td>\n",
       "      <td>0.003158</td>\n",
       "      <td>0.006547</td>\n",
       "      <td>1</td>\n",
       "    </tr>\n",
       "    <tr>\n",
       "      <th>2</th>\n",
       "      <td>-0.066850</td>\n",
       "      <td>-0.030972</td>\n",
       "      <td>-0.069839</td>\n",
       "      <td>-0.119837</td>\n",
       "      <td>-0.093108</td>\n",
       "      <td>-0.084165</td>\n",
       "      <td>-0.097201</td>\n",
       "      <td>0.004469</td>\n",
       "      <td>-0.000299</td>\n",
       "      <td>0.002070</td>\n",
       "      <td>0.004669</td>\n",
       "      <td>0.008011</td>\n",
       "      <td>0.006224</td>\n",
       "      <td>0.005626</td>\n",
       "      <td>0.006498</td>\n",
       "      <td>0</td>\n",
       "    </tr>\n",
       "    <tr>\n",
       "      <th>3</th>\n",
       "      <td>-0.067702</td>\n",
       "      <td>-0.085685</td>\n",
       "      <td>-0.070810</td>\n",
       "      <td>-0.111176</td>\n",
       "      <td>-0.074013</td>\n",
       "      <td>-0.076718</td>\n",
       "      <td>-0.080627</td>\n",
       "      <td>0.004584</td>\n",
       "      <td>-0.000310</td>\n",
       "      <td>0.005801</td>\n",
       "      <td>0.004794</td>\n",
       "      <td>0.007527</td>\n",
       "      <td>0.005011</td>\n",
       "      <td>0.005194</td>\n",
       "      <td>0.005459</td>\n",
       "      <td>0</td>\n",
       "    </tr>\n",
       "    <tr>\n",
       "      <th>4</th>\n",
       "      <td>-0.067858</td>\n",
       "      <td>-0.085685</td>\n",
       "      <td>-0.070810</td>\n",
       "      <td>-0.118755</td>\n",
       "      <td>-0.095475</td>\n",
       "      <td>-0.089129</td>\n",
       "      <td>-0.097201</td>\n",
       "      <td>0.004605</td>\n",
       "      <td>-0.000312</td>\n",
       "      <td>0.005814</td>\n",
       "      <td>0.004805</td>\n",
       "      <td>0.008058</td>\n",
       "      <td>0.006479</td>\n",
       "      <td>0.006048</td>\n",
       "      <td>0.006596</td>\n",
       "      <td>0</td>\n",
       "    </tr>\n",
       "  </tbody>\n",
       "</table>\n",
       "</div>"
      ],
      "text/plain": [
       "   Population  Murder and\\nnonnegligent\\nmanslaughter   Robbery  Burglary  \\\n",
       "0    0.128882                                0.352015  0.149675  0.633720   \n",
       "1    0.126014                               -0.085685 -0.012532  0.229874   \n",
       "2   -0.066850                               -0.030972 -0.069839 -0.119837   \n",
       "3   -0.067702                               -0.085685 -0.070810 -0.111176   \n",
       "4   -0.067858                               -0.085685 -0.070810 -0.118755   \n",
       "\n",
       "   Larceny-\\ntheft  Motor\\nvehicle\\ntheft      Rape  PopulationSq  \\\n",
       "0         0.411237               0.263365  0.399994      0.016611   \n",
       "1         0.203250               0.025059  0.051958      0.015879   \n",
       "2        -0.093108              -0.084165 -0.097201      0.004469   \n",
       "3        -0.074013              -0.076718 -0.080627      0.004584   \n",
       "4        -0.095475              -0.089129 -0.097201      0.004605   \n",
       "\n",
       "   PopulationCube  PopXMurder  PopXRobbery  PopXBurglary  PopXLarceny  \\\n",
       "0        0.002141    0.045368     0.019290      0.081675     0.053001   \n",
       "1        0.002001   -0.010797    -0.001579      0.028967     0.025612   \n",
       "2       -0.000299    0.002070     0.004669      0.008011     0.006224   \n",
       "3       -0.000310    0.005801     0.004794      0.007527     0.005011   \n",
       "4       -0.000312    0.005814     0.004805      0.008058     0.006479   \n",
       "\n",
       "   PopXMotorTheft  PopXRape  Assault_Category  \n",
       "0        0.033943  0.051552                 1  \n",
       "1        0.003158  0.006547                 1  \n",
       "2        0.005626  0.006498                 0  \n",
       "3        0.005194  0.005459                 0  \n",
       "4        0.006048  0.006596                 0  "
      ]
     },
     "execution_count": 141,
     "metadata": {},
     "output_type": "execute_result"
    }
   ],
   "source": [
    "scaled_crimes.head()"
   ]
  },
  {
   "cell_type": "markdown",
   "metadata": {},
   "source": [
    "## cleaned the data, now create features"
   ]
  },
  {
   "cell_type": "code",
   "execution_count": 64,
   "metadata": {},
   "outputs": [],
   "source": [
    "scaled_crimes['PopulationSq'] = (scaled_crimes['Population']) ** 2\n",
    "scaled_crimes['PopulationCube'] = (scaled_crimes['Population']) ** 3\n",
    "scaled_crimes['PopXMurder'] = scaled_crimes['Population'] * scaled_crimes['Murder and\\nnonnegligent\\nmanslaughter']\n",
    "scaled_crimes['PopXRobbery'] = scaled_crimes['Population'] * scaled_crimes['Robbery']\n",
    "scaled_crimes['PopXBurglary'] = scaled_crimes['Population'] * scaled_crimes['Burglary']\n",
    "scaled_crimes['PopXLarceny'] = scaled_crimes['Population'] * scaled_crimes['Larceny-\\ntheft']\n",
    "scaled_crimes['PopXMotorTheft'] = scaled_crimes['Population'] * scaled_crimes['Motor\\nvehicle\\ntheft']\n",
    "scaled_crimes['PopXRape'] = scaled_crimes['Population'] * scaled_crimes['Rape']"
   ]
  },
  {
   "cell_type": "markdown",
   "metadata": {},
   "source": [
    "## split training and test sets"
   ]
  },
  {
   "cell_type": "code",
   "execution_count": 142,
   "metadata": {},
   "outputs": [],
   "source": [
    "trainsize = int(scaled_crimes.shape[0] / 2)\n",
    "crimes_test = scaled_crimes.iloc[trainsize:, :].copy()\n",
    "crimes_train = scaled_crimes.iloc[:trainsize, :].copy()"
   ]
  },
  {
   "cell_type": "code",
   "execution_count": 143,
   "metadata": {},
   "outputs": [],
   "source": [
    "Y_train = crimes_train['Assault_Category']\n",
    "X_train = crimes_train.loc[:, ~(crimes_train.columns).isin(['Assault_Category'])]\n",
    "\n",
    "Y_test = crimes_test['Assault_Category']\n",
    "X_test = crimes_test.loc[:, ~(crimes_test.columns).isin(['Assault_Category'])]\n"
   ]
  },
  {
   "cell_type": "markdown",
   "metadata": {},
   "source": [
    "## do yer models"
   ]
  },
  {
   "cell_type": "code",
   "execution_count": 160,
   "metadata": {},
   "outputs": [
    {
     "data": {
      "text/plain": [
       "Population                                float64\n",
       "Murder and\\nnonnegligent\\nmanslaughter    float64\n",
       "Robbery                                   float64\n",
       "Burglary                                  float64\n",
       "Larceny-\\ntheft                           float64\n",
       "Motor\\nvehicle\\ntheft                     float64\n",
       "Rape                                      float64\n",
       "PopulationSq                              float64\n",
       "PopulationCube                            float64\n",
       "PopXMurder                                float64\n",
       "PopXRobbery                               float64\n",
       "PopXBurglary                              float64\n",
       "PopXLarceny                               float64\n",
       "PopXMotorTheft                            float64\n",
       "PopXRape                                  float64\n",
       "Assault_Category                            int64\n",
       "dtype: object"
      ]
     },
     "execution_count": 160,
     "metadata": {},
     "output_type": "execute_result"
    }
   ],
   "source": [
    "scaled_crimes.dtypes"
   ]
  },
  {
   "cell_type": "code",
   "execution_count": 150,
   "metadata": {
    "scrolled": false
   },
   "outputs": [],
   "source": [
    "xvals = np.unique(scaled_crimes[['Population',\n",
    "                                 'Murder and\\nnonnegligent\\nmanslaughter',\n",
    "                                 'Robbery',\n",
    "                                 'Burglary',\n",
    "                                 'Larceny-\\ntheft',\n",
    "                                 'Motor\\nvehicle\\ntheft',\n",
    "                                 'Rape',\n",
    "                                 'PopulationSq',\n",
    "                                 'PopulationCube',\n",
    "                                 'PopXMurder',\n",
    "                                 'PopXRobbery',\n",
    "                                 'PopXBurglary',\n",
    "                                 'PopXLarceny',\n",
    "                                 'PopXMotorTheft',\n",
    "                                 'PopXRape']].values)"
   ]
  },
  {
   "cell_type": "code",
   "execution_count": 162,
   "metadata": {
    "scrolled": true
   },
   "outputs": [
    {
     "data": {
      "text/plain": [
       "array([ 0.12888211,  0.12601378, -0.06684976, ...,  0.00851802,\n",
       "        0.00852689,  0.00854614])"
      ]
     },
     "execution_count": 162,
     "metadata": {},
     "output_type": "execute_result"
    }
   ],
   "source": [
    "x = (scaled_crimes[['Population',\n",
    "                  'Murder and\\nnonnegligent\\nmanslaughter',\n",
    "                  'Robbery',\n",
    "                  'Burglary',\n",
    "                  'Larceny-\\ntheft',\n",
    "                  'Motor\\nvehicle\\ntheft',\n",
    "                  'Rape',\n",
    "                  'PopulationSq',\n",
    "                  'PopulationCube',\n",
    "                  'PopXMurder',\n",
    "                  'PopXRobbery',\n",
    "                  'PopXBurglary',\n",
    "                  'PopXLarceny',\n",
    "                  'PopXMotorTheft',\n",
    "                  'PopXRape']].values.ravel('K'))\n",
    "\n",
    "x"
   ]
  },
  {
   "cell_type": "code",
   "execution_count": 198,
   "metadata": {},
   "outputs": [
    {
     "data": {
      "text/html": [
       "<div>\n",
       "<style>\n",
       "    .dataframe thead tr:only-child th {\n",
       "        text-align: right;\n",
       "    }\n",
       "\n",
       "    .dataframe thead th {\n",
       "        text-align: left;\n",
       "    }\n",
       "\n",
       "    .dataframe tbody tr th {\n",
       "        vertical-align: top;\n",
       "    }\n",
       "</style>\n",
       "<table border=\"1\" class=\"dataframe\">\n",
       "  <thead>\n",
       "    <tr style=\"text-align: right;\">\n",
       "      <th></th>\n",
       "      <th>Population</th>\n",
       "      <th>Murder and\n",
       "nonnegligent\n",
       "manslaughter</th>\n",
       "      <th>Robbery</th>\n",
       "      <th>Burglary</th>\n",
       "      <th>Larceny-\n",
       "theft</th>\n",
       "      <th>Motor\n",
       "vehicle\n",
       "theft</th>\n",
       "      <th>Rape</th>\n",
       "      <th>PopulationSq</th>\n",
       "      <th>PopulationCube</th>\n",
       "      <th>PopXMurder</th>\n",
       "      <th>PopXRobbery</th>\n",
       "      <th>PopXBurglary</th>\n",
       "      <th>PopXLarceny</th>\n",
       "      <th>PopXMotorTheft</th>\n",
       "      <th>PopXRape</th>\n",
       "      <th>Assault_Category</th>\n",
       "    </tr>\n",
       "  </thead>\n",
       "  <tbody>\n",
       "    <tr>\n",
       "      <th>0</th>\n",
       "      <td>0.128882</td>\n",
       "      <td>0.352015</td>\n",
       "      <td>0.149675</td>\n",
       "      <td>0.633720</td>\n",
       "      <td>0.411237</td>\n",
       "      <td>0.263365</td>\n",
       "      <td>0.399994</td>\n",
       "      <td>0.016611</td>\n",
       "      <td>0.002141</td>\n",
       "      <td>0.045368</td>\n",
       "      <td>0.019290</td>\n",
       "      <td>0.081675</td>\n",
       "      <td>0.053001</td>\n",
       "      <td>0.033943</td>\n",
       "      <td>0.051552</td>\n",
       "      <td>1</td>\n",
       "    </tr>\n",
       "    <tr>\n",
       "      <th>1</th>\n",
       "      <td>0.126014</td>\n",
       "      <td>-0.085685</td>\n",
       "      <td>-0.012532</td>\n",
       "      <td>0.229874</td>\n",
       "      <td>0.203250</td>\n",
       "      <td>0.025059</td>\n",
       "      <td>0.051958</td>\n",
       "      <td>0.015879</td>\n",
       "      <td>0.002001</td>\n",
       "      <td>-0.010797</td>\n",
       "      <td>-0.001579</td>\n",
       "      <td>0.028967</td>\n",
       "      <td>0.025612</td>\n",
       "      <td>0.003158</td>\n",
       "      <td>0.006547</td>\n",
       "      <td>1</td>\n",
       "    </tr>\n",
       "    <tr>\n",
       "      <th>2</th>\n",
       "      <td>-0.066850</td>\n",
       "      <td>-0.030972</td>\n",
       "      <td>-0.069839</td>\n",
       "      <td>-0.119837</td>\n",
       "      <td>-0.093108</td>\n",
       "      <td>-0.084165</td>\n",
       "      <td>-0.097201</td>\n",
       "      <td>0.004469</td>\n",
       "      <td>-0.000299</td>\n",
       "      <td>0.002070</td>\n",
       "      <td>0.004669</td>\n",
       "      <td>0.008011</td>\n",
       "      <td>0.006224</td>\n",
       "      <td>0.005626</td>\n",
       "      <td>0.006498</td>\n",
       "      <td>0</td>\n",
       "    </tr>\n",
       "    <tr>\n",
       "      <th>3</th>\n",
       "      <td>-0.067702</td>\n",
       "      <td>-0.085685</td>\n",
       "      <td>-0.070810</td>\n",
       "      <td>-0.111176</td>\n",
       "      <td>-0.074013</td>\n",
       "      <td>-0.076718</td>\n",
       "      <td>-0.080627</td>\n",
       "      <td>0.004584</td>\n",
       "      <td>-0.000310</td>\n",
       "      <td>0.005801</td>\n",
       "      <td>0.004794</td>\n",
       "      <td>0.007527</td>\n",
       "      <td>0.005011</td>\n",
       "      <td>0.005194</td>\n",
       "      <td>0.005459</td>\n",
       "      <td>0</td>\n",
       "    </tr>\n",
       "    <tr>\n",
       "      <th>4</th>\n",
       "      <td>-0.067858</td>\n",
       "      <td>-0.085685</td>\n",
       "      <td>-0.070810</td>\n",
       "      <td>-0.118755</td>\n",
       "      <td>-0.095475</td>\n",
       "      <td>-0.089129</td>\n",
       "      <td>-0.097201</td>\n",
       "      <td>0.004605</td>\n",
       "      <td>-0.000312</td>\n",
       "      <td>0.005814</td>\n",
       "      <td>0.004805</td>\n",
       "      <td>0.008058</td>\n",
       "      <td>0.006479</td>\n",
       "      <td>0.006048</td>\n",
       "      <td>0.006596</td>\n",
       "      <td>0</td>\n",
       "    </tr>\n",
       "  </tbody>\n",
       "</table>\n",
       "</div>"
      ],
      "text/plain": [
       "   Population  Murder and\\nnonnegligent\\nmanslaughter   Robbery  Burglary  \\\n",
       "0    0.128882                                0.352015  0.149675  0.633720   \n",
       "1    0.126014                               -0.085685 -0.012532  0.229874   \n",
       "2   -0.066850                               -0.030972 -0.069839 -0.119837   \n",
       "3   -0.067702                               -0.085685 -0.070810 -0.111176   \n",
       "4   -0.067858                               -0.085685 -0.070810 -0.118755   \n",
       "\n",
       "   Larceny-\\ntheft  Motor\\nvehicle\\ntheft      Rape  PopulationSq  \\\n",
       "0         0.411237               0.263365  0.399994      0.016611   \n",
       "1         0.203250               0.025059  0.051958      0.015879   \n",
       "2        -0.093108              -0.084165 -0.097201      0.004469   \n",
       "3        -0.074013              -0.076718 -0.080627      0.004584   \n",
       "4        -0.095475              -0.089129 -0.097201      0.004605   \n",
       "\n",
       "   PopulationCube  PopXMurder  PopXRobbery  PopXBurglary  PopXLarceny  \\\n",
       "0        0.002141    0.045368     0.019290      0.081675     0.053001   \n",
       "1        0.002001   -0.010797    -0.001579      0.028967     0.025612   \n",
       "2       -0.000299    0.002070     0.004669      0.008011     0.006224   \n",
       "3       -0.000310    0.005801     0.004794      0.007527     0.005011   \n",
       "4       -0.000312    0.005814     0.004805      0.008058     0.006479   \n",
       "\n",
       "   PopXMotorTheft  PopXRape  Assault_Category  \n",
       "0        0.033943  0.051552                 1  \n",
       "1        0.003158  0.006547                 1  \n",
       "2        0.005626  0.006498                 0  \n",
       "3        0.005194  0.005459                 0  \n",
       "4        0.006048  0.006596                 0  "
      ]
     },
     "execution_count": 198,
     "metadata": {},
     "output_type": "execute_result"
    }
   ],
   "source": [
    "scaled_crimes.head()"
   ]
  },
  {
   "cell_type": "code",
   "execution_count": 226,
   "metadata": {},
   "outputs": [
    {
     "ename": "ZeroDivisionError",
     "evalue": "division by zero",
     "output_type": "error",
     "traceback": [
      "\u001b[0;31m---------------------------------------------------------------------------\u001b[0m",
      "\u001b[0;31mZeroDivisionError\u001b[0m                         Traceback (most recent call last)",
      "\u001b[0;32m<ipython-input-226-8fd9e57ba604>\u001b[0m in \u001b[0;36m<module>\u001b[0;34m()\u001b[0m\n\u001b[1;32m      8\u001b[0m     \u001b[0my1_ct\u001b[0m \u001b[0;34m=\u001b[0m \u001b[0mbin_y\u001b[0m\u001b[0;34m[\u001b[0m\u001b[0mbin_y\u001b[0m\u001b[0;34m[\u001b[0m\u001b[0mx\u001b[0m \u001b[0;34m==\u001b[0m \u001b[0mxi\u001b[0m\u001b[0;34m]\u001b[0m\u001b[0;34m]\u001b[0m\u001b[0;34m.\u001b[0m\u001b[0msum\u001b[0m\u001b[0;34m(\u001b[0m\u001b[0;34m)\u001b[0m\u001b[0;34m\u001b[0m\u001b[0m\n\u001b[1;32m      9\u001b[0m     \u001b[0my0_ct\u001b[0m \u001b[0;34m=\u001b[0m \u001b[0mlen\u001b[0m\u001b[0;34m(\u001b[0m\u001b[0mbin_y\u001b[0m\u001b[0;34m[\u001b[0m\u001b[0mbin_y\u001b[0m\u001b[0;34m[\u001b[0m\u001b[0mx\u001b[0m \u001b[0;34m==\u001b[0m \u001b[0mxi\u001b[0m\u001b[0;34m]\u001b[0m\u001b[0;34m]\u001b[0m\u001b[0;34m)\u001b[0m \u001b[0;34m-\u001b[0m \u001b[0my1_ct\u001b[0m\u001b[0;34m\u001b[0m\u001b[0m\n\u001b[0;32m---> 10\u001b[0;31m     \u001b[0myodds\u001b[0m\u001b[0;34m.\u001b[0m\u001b[0mappend\u001b[0m\u001b[0;34m(\u001b[0m\u001b[0;34m(\u001b[0m\u001b[0my1_ct\u001b[0m \u001b[0;34m/\u001b[0m \u001b[0my0_ct\u001b[0m\u001b[0;34m)\u001b[0m\u001b[0;34m)\u001b[0m\u001b[0;34m\u001b[0m\u001b[0m\n\u001b[0m\u001b[1;32m     11\u001b[0m \u001b[0;34m\u001b[0m\u001b[0m\n\u001b[1;32m     12\u001b[0m \u001b[0mfit\u001b[0m \u001b[0;34m=\u001b[0m \u001b[0mnp\u001b[0m\u001b[0;34m.\u001b[0m\u001b[0mpolyfit\u001b[0m\u001b[0;34m(\u001b[0m\u001b[0mxvals\u001b[0m\u001b[0;34m,\u001b[0m \u001b[0myodds\u001b[0m\u001b[0;34m,\u001b[0m \u001b[0;36m1\u001b[0m\u001b[0;34m)\u001b[0m\u001b[0;34m\u001b[0m\u001b[0m\n",
      "\u001b[0;31mZeroDivisionError\u001b[0m: division by zero"
     ]
    }
   ],
   "source": [
    "x = raw_crimes['Population'].values\n",
    "bin_y = scaled_crimes['Assault_Category']\n",
    "\n",
    "xvals = np.unique(x)\n",
    "\n",
    "yodds = []\n",
    "for xi in xvals: \n",
    "    y1_ct = bin_y[bin_y[x == xi]].sum()  \n",
    "    y0_ct = len(bin_y[bin_y[x == xi]]) - y1_ct  \n",
    "    yodds.append((y1_ct / y0_ct))  \n",
    "      \n",
    "fit = np.polyfit(xvals, yodds, 1)\n",
    "fit_fn = np.poly1d(fit)\n",
    "\n",
    "plt.plot(xvals, yodds, 'yo', xvals, fit_fn(xvals), '--k')\n",
    "plt.xlabel('Continuous x')\n",
    "plt.ylabel('Odds of y=1')\n",
    "plt.show()\n",
    "\n",
    "ln_yodds = np.log(yodds)\n",
    "fit = np.polyfit(xvals, ln_yodds, 1)\n",
    "fit_fn = np.poly1d(fit)\n",
    "\n",
    "plt.plot(xvals, ln_yodds, 'yo', xvals, fit_fn(xvals), '--k')\n",
    "plt.xlabel('Continuous x')\n",
    "plt.ylabel('Log odds of y=1')\n",
    "plt.show()"
   ]
  },
  {
   "cell_type": "code",
   "execution_count": 227,
   "metadata": {
    "scrolled": false
   },
   "outputs": [
    {
     "data": {
      "text/plain": [
       "array([  9.79560000e+04,   9.66670000e+04,   9.99600000e+03,\n",
       "         9.61300000e+03,   9.54300000e+03,   9.51900000e+03,\n",
       "         9.51700000e+03,   9.51700000e+03,   9.48000000e+03,\n",
       "         9.26400000e+03,   9.14100000e+03,   9.13200000e+03,\n",
       "         8.72040000e+04,   8.07050000e+04,   8.97800000e+03,\n",
       "         8.96100000e+03,   8.76900000e+03,   8.68900000e+03,\n",
       "         8.54400000e+03,   8.54200000e+03,   8.53100000e+03,\n",
       "         8.48100000e+03,   8.39612600e+06,   8.39200000e+03,\n",
       "         8.29600000e+03,   8.28400000e+03,   8.24100000e+03,\n",
       "         8.18000000e+03,   8.00200000e+03,   7.88000000e+04,\n",
       "         7.83610000e+04,   7.82150000e+04,   7.99000000e+03,\n",
       "         7.97600000e+03,   7.93700000e+03,   7.89100000e+03,\n",
       "         7.82700000e+03,   7.70000000e+03,   7.69300000e+03,\n",
       "         7.68400000e+03,   7.47300000e+03,   7.45800000e+03,\n",
       "         7.41100000e+03,   7.28000000e+03,   7.18700000e+03,\n",
       "         7.11200000e+03,   7.10000000e+03,   7.04900000e+03,\n",
       "         6.80710000e+04,   6.60410000e+04,   6.16860000e+04,\n",
       "         6.98200000e+03,   6.96400000e+03,   6.88700000e+03,\n",
       "         6.79400000e+03,   6.70100000e+03,   6.67600000e+03,\n",
       "         6.59600000e+03,   6.58700000e+03,   6.58200000e+03,\n",
       "         6.57800000e+03,   6.57700000e+03,   6.53000000e+03,\n",
       "         6.48700000e+03,   6.39000000e+03,   6.38800000e+03,\n",
       "         6.02600000e+03,   5.80820000e+04,   5.75590000e+04,\n",
       "         5.51980000e+04,   5.15060000e+04,   5.06030000e+04,\n",
       "         5.95300000e+03,   5.94800000e+03,   5.93100000e+03,\n",
       "         5.93000000e+03,   5.88100000e+03,   5.82800000e+03,\n",
       "         5.73300000e+03,   5.69100000e+03,   5.55800000e+03,\n",
       "         5.41800000e+03,   5.40000000e+03,   5.36900000e+03,\n",
       "         5.33500000e+03,   5.21300000e+03,   5.20000000e+03,\n",
       "         5.17500000e+03,   5.14400000e+03,   5.12300000e+03,\n",
       "         5.04200000e+03,   5.03300000e+03,   5.01600000e+03,\n",
       "         4.98980000e+04,   4.95740000e+04,   4.63040000e+04,\n",
       "         4.55350000e+04,   4.48210000e+04,   4.47870000e+04,\n",
       "         4.38660000e+04,   4.37770000e+04,   4.32140000e+04,\n",
       "         4.98200000e+03,   4.91200000e+03,   4.70400000e+03,\n",
       "         4.62500000e+03,   4.60500000e+03,   4.57400000e+03,\n",
       "         4.52300000e+03,   4.50300000e+03,   4.35400000e+03,\n",
       "         4.33700000e+03,   4.28500000e+03,   4.23300000e+03,\n",
       "         4.18800000e+03,   4.12400000e+03,   4.08900000e+03,\n",
       "         4.07900000e+03,   4.06500000e+03,   3.74380000e+04,\n",
       "         3.71960000e+04,   3.66890000e+04,   3.66430000e+04,\n",
       "         3.63690000e+04,   3.44620000e+04,   3.42430000e+04,\n",
       "         3.38050000e+04,   3.37890000e+04,   3.35340000e+04,\n",
       "         3.25570000e+04,   3.22880000e+04,   3.11760000e+04,\n",
       "         3.09840000e+04,   3.07780000e+04,   3.06580000e+04,\n",
       "         3.99100000e+03,   3.86200000e+03,   3.84700000e+03,\n",
       "         3.81800000e+03,   3.80500000e+03,   3.74900000e+03,\n",
       "         3.73300000e+03,   3.68300000e+03,   3.64200000e+03,\n",
       "         3.64000000e+03,   3.63300000e+03,   3.62800000e+03,\n",
       "         3.54300000e+03,   3.48100000e+03,   3.47500000e+03,\n",
       "         3.46600000e+03,   3.45700000e+03,   3.45300000e+03,\n",
       "         3.33300000e+03,   3.32400000e+03,   3.27000000e+03,\n",
       "         3.20900000e+03,   3.16100000e+03,   3.11800000e+03,\n",
       "         3.06400000e+03,   3.04300000e+03,   3.03600000e+03,\n",
       "         3.01200000e+03,   3.00900000e+03,   2.95710000e+04,\n",
       "         2.93860000e+04,   2.93280000e+04,   2.93150000e+04,\n",
       "         2.91460000e+04,   2.89210000e+04,   2.85710000e+04,\n",
       "         2.84680000e+04,   2.81790000e+04,   2.79800000e+04,\n",
       "         2.79400000e+04,   2.78760000e+04,   2.78090000e+04,\n",
       "         2.72700000e+04,   2.71340000e+04,   2.70810000e+04,\n",
       "         2.65640000e+04,   2.58789000e+05,   2.57670000e+04,\n",
       "         2.53140000e+04,   2.44610000e+04,   2.41650000e+04,\n",
       "         2.41290000e+04,   2.39080000e+04,   2.36650000e+04,\n",
       "         2.26810000e+04,   2.25960000e+04,   2.20970000e+04,\n",
       "         2.10562000e+05,   2.18390000e+04,   2.13970000e+04,\n",
       "         2.09040000e+04,   2.04350000e+04,   2.03550000e+04,\n",
       "         2.00260000e+04,   2.98500000e+03,   2.97800000e+03,\n",
       "         2.91200000e+03,   2.84600000e+03,   2.84200000e+03,\n",
       "         2.79400000e+03,   2.73200000e+03,   2.71500000e+03,\n",
       "         2.66300000e+03,   2.63500000e+03,   2.62100000e+03,\n",
       "         2.60400000e+03,   2.57900000e+03,   2.57700000e+03,\n",
       "         2.55000000e+03,   2.52200000e+03,   2.49800000e+03,\n",
       "         2.49100000e+03,   2.46000000e+03,   2.45000000e+03,\n",
       "         2.41200000e+03,   2.38100000e+03,   2.36200000e+03,\n",
       "         2.35800000e+03,   2.35400000e+03,   2.32500000e+03,\n",
       "         2.31100000e+03,   2.27900000e+03,   2.26500000e+03,\n",
       "         2.24600000e+03,   2.21900000e+03,   2.19100000e+03,\n",
       "         2.17100000e+03,   2.11600000e+03,   2.06500000e+03,\n",
       "         2.05400000e+03,   2.05300000e+03,   2.04900000e+03,\n",
       "         1.99134000e+05,   1.99630000e+04,   1.98000000e+04,\n",
       "         1.96740000e+04,   1.96720000e+04,   1.95280000e+04,\n",
       "         1.93310000e+04,   1.93180000e+04,   1.91640000e+04,\n",
       "         1.81820000e+04,   1.81390000e+04,   1.79650000e+04,\n",
       "         1.78640000e+04,   1.76270000e+04,   1.75640000e+04,\n",
       "         1.64700000e+04,   1.62920000e+04,   1.61790000e+04,\n",
       "         1.61750000e+04,   1.59260000e+04,   1.53740000e+04,\n",
       "         1.53150000e+04,   1.53070000e+04,   1.52560000e+04,\n",
       "         1.51890000e+04,   1.43834000e+05,   1.49870000e+04,\n",
       "         1.48660000e+04,   1.45820000e+04,   1.42480000e+04,\n",
       "         1.42050000e+04,   1.41500000e+04,   1.38250000e+04,\n",
       "         1.37740000e+04,   1.33810000e+04,   1.31940000e+04,\n",
       "         1.31220000e+04,   1.23290000e+04,   1.21950000e+04,\n",
       "         1.21460000e+04,   1.21370000e+04,   1.21090000e+04,\n",
       "         1.20770000e+04,   1.20010000e+04,   1.18296000e+05,\n",
       "         1.17390000e+04,   1.15730000e+04,   1.14490000e+04,\n",
       "         1.12200000e+04,   1.10870000e+04,   1.10720000e+04,\n",
       "         1.10280000e+04,   1.10210000e+04,   1.09880000e+04,\n",
       "         1.08860000e+04,   1.08080000e+04,   1.07510000e+04,\n",
       "         1.06850000e+04,   1.04700000e+04,   1.04420000e+04,\n",
       "         1.03740000e+04,   1.02450000e+04,   1.96000000e+03,\n",
       "         1.94700000e+03,   1.92600000e+03,   1.91300000e+03,\n",
       "         1.86200000e+03,   1.86100000e+03,   1.85400000e+03,\n",
       "         1.83500000e+03,   1.82700000e+03,   1.82000000e+03,\n",
       "         1.81300000e+03,   1.80500000e+03,   1.79700000e+03,\n",
       "         1.79200000e+03,   1.78100000e+03,   1.75400000e+03,\n",
       "         1.73300000e+03,   1.73200000e+03,   1.70200000e+03,\n",
       "         1.69100000e+03,   1.68800000e+03,   1.62800000e+03,\n",
       "         1.62200000e+03,   1.60200000e+03,   1.55300000e+03,\n",
       "         1.43700000e+03,   1.43300000e+03,   1.42800000e+03,\n",
       "         1.41000000e+03,   1.38500000e+03,   1.35100000e+03,\n",
       "         1.35000000e+03,   1.27400000e+03,   1.26300000e+03,\n",
       "         1.17400000e+03,   1.12200000e+03,   1.10400000e+03,\n",
       "         1.09700000e+03,   1.02200000e+03,   9.97000000e+02,\n",
       "         9.80000000e+02,   9.77000000e+02,   8.72000000e+02,\n",
       "         8.29000000e+02,   7.62000000e+02,   6.58000000e+02,\n",
       "         6.56000000e+02,   6.15000000e+02,   5.26000000e+02])"
      ]
     },
     "execution_count": 227,
     "metadata": {},
     "output_type": "execute_result"
    }
   ],
   "source": [
    "x"
   ]
  },
  {
   "cell_type": "code",
   "execution_count": null,
   "metadata": {
    "collapsed": true
   },
   "outputs": [],
   "source": [
    "for column in scaled_crimes:\n",
    "    column_vals = np.unique(column.values)\n",
    "    for xi in column_vals:\n",
    "        y1_ct = raw_crimes.Assault_Category[x == xi].sum()  # The number of trials y = 1.\n",
    "        y0_ct = len(raw_crimes.Assault_Category[x == xi]) - y1_ct  # The number of trials y = 0.\n",
    "        column_yodds.append(y1_ct / y0_ct)  # Odds of getting y = 1 for xi.\n",
    "        "
   ]
  },
  {
   "cell_type": "code",
   "execution_count": 164,
   "metadata": {},
   "outputs": [
    {
     "name": "stdout",
     "output_type": "stream",
     "text": [
      "3626\n",
      "5220\n"
     ]
    }
   ],
   "source": [
    "print(len(xvals))\n",
    "print(len(x))"
   ]
  },
  {
   "cell_type": "code",
   "execution_count": null,
   "metadata": {
    "collapsed": true
   },
   "outputs": [],
   "source": []
  },
  {
   "cell_type": "code",
   "execution_count": 176,
   "metadata": {},
   "outputs": [
    {
     "name": "stdout",
     "output_type": "stream",
     "text": [
      "test alpha 1\n",
      "-0.0789268986238\n"
     ]
    }
   ],
   "source": [
    "#Ridge\n",
    "\n",
    "ridgeregr1 = linear_model.Ridge(alpha=1, fit_intercept=False) \n",
    "ridgeregr1.fit(X_train, Y_train)\n",
    "print(\"test alpha 1\")\n",
    "print(ridgeregr1.score(X_train, Y_train))\n"
   ]
  },
  {
   "cell_type": "code",
   "execution_count": 177,
   "metadata": {},
   "outputs": [
    {
     "name": "stdout",
     "output_type": "stream",
     "text": [
      "test alpha 5\n",
      "-0.284811904665\n"
     ]
    }
   ],
   "source": [
    "ridgeregr2 = linear_model.Ridge(alpha=5, fit_intercept=False) \n",
    "ridgeregr2.fit(X_train, Y_train)\n",
    "print(\"test alpha 5\")\n",
    "print(ridgeregr2.score(X_train, Y_train))\n"
   ]
  },
  {
   "cell_type": "code",
   "execution_count": 179,
   "metadata": {},
   "outputs": [
    {
     "name": "stdout",
     "output_type": "stream",
     "text": [
      "test alpha 10\n",
      "-0.336833687148\n"
     ]
    }
   ],
   "source": [
    "ridgeregr3 = linear_model.Ridge(alpha=10, fit_intercept=False) \n",
    "ridgeregr3.fit(X_train, Y_train)\n",
    "print(\"test alpha 10\")\n",
    "print(ridgeregr3.score(X_train, Y_train))\n"
   ]
  },
  {
   "cell_type": "code",
   "execution_count": 182,
   "metadata": {},
   "outputs": [
    {
     "name": "stdout",
     "output_type": "stream",
     "text": [
      "test alpha 20\n",
      "-0.369060462503\n"
     ]
    }
   ],
   "source": [
    "ridgeregr4 = linear_model.Ridge(alpha=20, fit_intercept=False) \n",
    "ridgeregr4.fit(X_train, Y_train)\n",
    "print(\"test alpha 20\")\n",
    "print(ridgeregr4.score(X_train, Y_train))\n"
   ]
  },
  {
   "cell_type": "code",
   "execution_count": 181,
   "metadata": {},
   "outputs": [
    {
     "name": "stdout",
     "output_type": "stream",
     "text": [
      "test alpha 50\n",
      "-0.392265185691\n"
     ]
    }
   ],
   "source": [
    "ridgeregr5 = linear_model.Ridge(alpha=50, fit_intercept=False) \n",
    "ridgeregr5.fit(X_train, Y_train)\n",
    "print('test alpha 50')\n",
    "print(ridgeregr5.score(X_train, Y_train))\n"
   ]
  },
  {
   "cell_type": "code",
   "execution_count": null,
   "metadata": {
    "collapsed": true
   },
   "outputs": [],
   "source": []
  },
  {
   "cell_type": "code",
   "execution_count": 191,
   "metadata": {},
   "outputs": [
    {
     "name": "stdout",
     "output_type": "stream",
     "text": [
      "R² for the model:\n",
      "0.0131942911818\n"
     ]
    }
   ],
   "source": [
    "#Lasso\n",
    "\n",
    "lass1 = linear_model.Lasso(alpha=.35)\n",
    "lassfit1 = lass1.fit(X_train, Y_train)\n",
    "print('R² for the model:')\n",
    "print(lass1.score(X_train, Y_train))\n"
   ]
  },
  {
   "cell_type": "code",
   "execution_count": 190,
   "metadata": {},
   "outputs": [
    {
     "name": "stdout",
     "output_type": "stream",
     "text": [
      "R² for the model:\n",
      "0.013191742452\n"
     ]
    }
   ],
   "source": [
    "lass2 = linear_model.Lasso(alpha=.5)\n",
    "lassfit2 = lass2.fit(X_train, Y_train)\n",
    "print('R² for the model:')\n",
    "print(lass2.score(X_train, Y_train))\n"
   ]
  },
  {
   "cell_type": "code",
   "execution_count": 189,
   "metadata": {},
   "outputs": [
    {
     "name": "stdout",
     "output_type": "stream",
     "text": [
      "R² for the model:\n",
      "0.0131767499236\n"
     ]
    }
   ],
   "source": [
    "lass3 = linear_model.Lasso(alpha=1)\n",
    "lassfit3 = lass3.fit(X_train, Y_train)\n",
    "print('R² for the model:')\n",
    "print(lass3.score(X_train, Y_train))\n"
   ]
  },
  {
   "cell_type": "code",
   "execution_count": 187,
   "metadata": {},
   "outputs": [
    {
     "name": "stdout",
     "output_type": "stream",
     "text": [
      "R² for the model:\n",
      "0.0126969890157\n"
     ]
    }
   ],
   "source": [
    "lass4 = linear_model.Lasso(alpha=5)\n",
    "lassfit4 = lass4.fit(X_train, Y_train)\n",
    "print('R² for the model:')\n",
    "print(lass4.score(X_train, Y_train))\n"
   ]
  },
  {
   "cell_type": "code",
   "execution_count": 188,
   "metadata": {},
   "outputs": [
    {
     "name": "stdout",
     "output_type": "stream",
     "text": [
      "R² for the model:\n",
      "0.0111977361786\n"
     ]
    }
   ],
   "source": [
    "lass5 = linear_model.Lasso(alpha=10)\n",
    "lassfit5 = lass5.fit(X_train, Y_train)\n",
    "print('R² for the model:')\n",
    "print(lass5.score(X_train, Y_train))\n"
   ]
  },
  {
   "cell_type": "code",
   "execution_count": 195,
   "metadata": {},
   "outputs": [
    {
     "name": "stdout",
     "output_type": "stream",
     "text": [
      "R² score\n",
      "0.827586206897\n"
     ]
    }
   ],
   "source": [
    "logregr = linear_model.LogisticRegression(fit_intercept=False)\n",
    "logregrfit = logregr.fit(X_train, Y_train)\n",
    "print('R² score')\n",
    "print(logregr.score(X_train, Y_train))"
   ]
  },
  {
   "cell_type": "code",
   "execution_count": 196,
   "metadata": {},
   "outputs": [
    {
     "name": "stdout",
     "output_type": "stream",
     "text": [
      "R² score\n",
      "0.850574712644\n"
     ]
    }
   ],
   "source": [
    "logregr2 = linear_model.LogisticRegression(penalty='l1',\n",
    "                                           fit_intercept=False)\n",
    "logregrfit2 = logregr2.fit(X_train, Y_train)\n",
    "print('R² score')\n",
    "print(logregr2.score(X_train, Y_train))"
   ]
  },
  {
   "cell_type": "code",
   "execution_count": 197,
   "metadata": {},
   "outputs": [
    {
     "name": "stdout",
     "output_type": "stream",
     "text": [
      "R² score\n",
      "0.827586206897\n"
     ]
    }
   ],
   "source": [
    "logregr3 = linear_model.LogisticRegression(penalty='l2',\n",
    "                                           fit_intercept=False)\n",
    "logregrfit3 = logregr3.fit(X_train, Y_train)\n",
    "print('R² score')\n",
    "print(logregr3.score(X_train, Y_train))"
   ]
  },
  {
   "cell_type": "markdown",
   "metadata": {},
   "source": [
    "# REPORT TIME "
   ]
  },
  {
   "cell_type": "code",
   "execution_count": null,
   "metadata": {
    "collapsed": true
   },
   "outputs": [],
   "source": []
  }
 ],
 "metadata": {
  "kernelspec": {
   "display_name": "Python 3",
   "language": "python",
   "name": "python3"
  },
  "language_info": {
   "codemirror_mode": {
    "name": "ipython",
    "version": 3
   },
   "file_extension": ".py",
   "mimetype": "text/x-python",
   "name": "python",
   "nbconvert_exporter": "python",
   "pygments_lexer": "ipython3",
   "version": "3.6.1"
  }
 },
 "nbformat": 4,
 "nbformat_minor": 2
}
